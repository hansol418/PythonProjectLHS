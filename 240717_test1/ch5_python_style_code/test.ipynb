{
 "cells": [
  {
   "cell_type": "code",
   "id": "initial_id",
   "metadata": {
    "collapsed": true,
    "ExecuteTime": {
     "end_time": "2024-07-18T04:59:24.848222Z",
     "start_time": "2024-07-18T04:59:24.841689Z"
    }
   },
   "source": [
    "case1 = [\"A\",\"B\",\"C\"]\n",
    "case2 = [\"1\",\"2\",\"3\"]\n",
    "\n",
    "#1차원 리스트, for 문 2개있고, 앞의 for 문을 고정한다.\n",
    "result = [i + j for i in case1 for j in case2]\n",
    "print(result)\n"
   ],
   "outputs": [
    {
     "name": "stdout",
     "output_type": "stream",
     "text": [
      "['A1', 'A2', 'A3', 'B1', 'B2', 'B3', 'C1', 'C2', 'C3']\n"
     ]
    }
   ],
   "execution_count": 1
  },
  {
   "metadata": {
    "ExecuteTime": {
     "end_time": "2024-07-18T05:00:38.920258Z",
     "start_time": "2024-07-18T05:00:38.916596Z"
    }
   },
   "cell_type": "code",
   "source": [
    "#2차원 리스트, for 문 2개있고, 뒤 for 문을 고정한다.\n",
    "result = [[i + j for i in case1] for j in case2]\n",
    "print(result)"
   ],
   "id": "bac1f176610ddfe2",
   "outputs": [
    {
     "name": "stdout",
     "output_type": "stream",
     "text": [
      "[['A1', 'B1', 'C1'], ['A2', 'B2', 'C2'], ['A3', 'B3', 'C3']]\n"
     ]
    }
   ],
   "execution_count": 2
  },
  {
   "metadata": {
    "ExecuteTime": {
     "end_time": "2024-07-18T05:01:52.371197Z",
     "start_time": "2024-07-18T05:01:52.367920Z"
    }
   },
   "cell_type": "code",
   "source": [
    "for i,j in enumerate(result):\n",
    "    print(i,j)"
   ],
   "id": "cbcc0ee580a006cf",
   "outputs": [
    {
     "name": "stdout",
     "output_type": "stream",
     "text": [
      "0 ['A1', 'B1', 'C1']\n",
      "1 ['A2', 'B2', 'C2']\n",
      "2 ['A3', 'B3', 'C3']\n"
     ]
    }
   ],
   "execution_count": 3
  },
  {
   "metadata": {
    "ExecuteTime": {
     "end_time": "2024-07-18T05:02:42.393111Z",
     "start_time": "2024-07-18T05:02:42.389605Z"
    }
   },
   "cell_type": "code",
   "source": [
    "for a,b in zip(case1,case2):\n",
    "    print(a,b)"
   ],
   "id": "a53539261bc7b33b",
   "outputs": [
    {
     "name": "stdout",
     "output_type": "stream",
     "text": [
      "A 1\n",
      "B 2\n",
      "C 3\n"
     ]
    }
   ],
   "execution_count": 4
  },
  {
   "metadata": {},
   "cell_type": "code",
   "outputs": [],
   "execution_count": null,
   "source": "",
   "id": "67bf9623cb4dff90"
  }
 ],
 "metadata": {
  "kernelspec": {
   "display_name": "Python 3",
   "language": "python",
   "name": "python3"
  },
  "language_info": {
   "codemirror_mode": {
    "name": "ipython",
    "version": 2
   },
   "file_extension": ".py",
   "mimetype": "text/x-python",
   "name": "python",
   "nbconvert_exporter": "python",
   "pygments_lexer": "ipython2",
   "version": "2.7.6"
  }
 },
 "nbformat": 4,
 "nbformat_minor": 5
}

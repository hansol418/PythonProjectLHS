{
 "cells": [
  {
   "cell_type": "code",
   "id": "initial_id",
   "metadata": {
    "collapsed": true,
    "ExecuteTime": {
     "end_time": "2024-07-17T00:47:42.906583Z",
     "start_time": "2024-07-17T00:47:42.902960Z"
    }
   },
   "source": "print(\"오늘 점심 뭐 먹지?\")",
   "outputs": [
    {
     "name": "stdout",
     "output_type": "stream",
     "text": [
      "오늘 점심 뭐 먹지?\n"
     ]
    }
   ],
   "execution_count": 1
  },
  {
   "metadata": {
    "ExecuteTime": {
     "end_time": "2024-07-17T01:27:26.487511Z",
     "start_time": "2024-07-17T01:27:26.462357Z"
    }
   },
   "cell_type": "code",
   "source": "10 + 20",
   "id": "f9fa1894149ccd5d",
   "outputs": [
    {
     "data": {
      "text/plain": [
       "30"
      ]
     },
     "execution_count": 1,
     "metadata": {},
     "output_type": "execute_result"
    }
   ],
   "execution_count": 1
  },
  {
   "metadata": {
    "ExecuteTime": {
     "end_time": "2024-07-17T01:36:13.688662Z",
     "start_time": "2024-07-17T01:36:13.684236Z"
    }
   },
   "cell_type": "code",
   "source": [
    "lunchMenu = \"돈까스\"\n",
    "price = 8000\n",
    "print(lunchMenu)\n",
    "print(price)\n",
    "print(type(lunchMenu))\n",
    "print(type(price))"
   ],
   "id": "210ed15b7feac708",
   "outputs": [
    {
     "name": "stdout",
     "output_type": "stream",
     "text": [
      "돈까스\n",
      "8000\n",
      "<class 'str'>\n",
      "<class 'int'>\n"
     ]
    }
   ],
   "execution_count": 2
  },
  {
   "metadata": {
    "ExecuteTime": {
     "end_time": "2024-07-17T01:38:14.877283Z",
     "start_time": "2024-07-17T01:38:14.871839Z"
    }
   },
   "cell_type": "code",
   "source": [
    "priceFloat = float(price)\n",
    "priceStr = str(price)\n",
    "print(priceStr)\n",
    "print(type(priceStr))\n",
    "print(type(priceFloat))\n",
    "print(type(priceStr))"
   ],
   "id": "b8ded093881eecaa",
   "outputs": [
    {
     "name": "stdout",
     "output_type": "stream",
     "text": [
      "8000\n",
      "<class 'str'>\n",
      "<class 'float'>\n",
      "<class 'str'>\n"
     ]
    }
   ],
   "execution_count": 3
  },
  {
   "metadata": {
    "ExecuteTime": {
     "end_time": "2024-07-17T01:50:13.314131Z",
     "start_time": "2024-07-17T01:50:10.158926Z"
    }
   },
   "cell_type": "code",
   "source": [
    "varA = 1\n",
    "print(id(varA))\n",
    "\n",
    "print(\"오늘 먹을 점심 메뉴 : %s, 가격 : %d원\" % (lunchMenu, price))\n",
    "\n",
    "print(f\"오늘 먹을 점심 메뉴 : {lunchMenu}, 가격 : {price}원\")\n",
    "\n",
    "todayLunchMenuInput = input(\"오늘 먹고 깊은 메뉴 입력 해주세요?\")\n",
    "print(f\"오늘 먹고 싶은 점심 메뉴 : {todayLunchMenuInput}!!!\")"
   ],
   "id": "698d5aa7bdbc67f5",
   "outputs": [
    {
     "name": "stdout",
     "output_type": "stream",
     "text": [
      "140732254845368\n",
      "오늘 먹을 점심 메뉴 : 돈까스, 가격 : 8000원\n",
      "오늘 먹을 점심 메뉴 : 돈까스, 가격 : 8000원\n",
      "오늘 먹고 싶은 점심 메뉴 : !!!\n"
     ]
    }
   ],
   "execution_count": 11
  },
  {
   "metadata": {
    "ExecuteTime": {
     "end_time": "2024-07-17T01:50:28.977223Z",
     "start_time": "2024-07-17T01:50:28.970968Z"
    }
   },
   "cell_type": "code",
   "source": [
    "varA = 1\n",
    "print(id(varA))"
   ],
   "id": "bb4a081df96dda60",
   "outputs": [
    {
     "name": "stdout",
     "output_type": "stream",
     "text": [
      "140732254845368\n"
     ]
    }
   ],
   "execution_count": 13
  },
  {
   "metadata": {
    "ExecuteTime": {
     "end_time": "2024-07-17T02:24:47.825559Z",
     "start_time": "2024-07-17T02:24:47.814829Z"
    }
   },
   "cell_type": "code",
   "source": [
    "todayMenuList = [\"0돈까스-8\",\"1모밀-7\",\"2도시락-6\",\"3참깨라면-5\",\"4제육볶음-4\",\"5국수-3\",\"6된장찌개-2\",\"7국밥-1\"]\n",
    "print(todayMenuList[:])"
   ],
   "id": "81beb5ab46b895e6",
   "outputs": [
    {
     "name": "stdout",
     "output_type": "stream",
     "text": [
      "['0돈까스-8', '1모밀-7', '2도시락-6', '3참깨라면-5', '4제육볶음-4', '5국수-3', '6된장찌개-2', '7국밥-1']\n"
     ]
    }
   ],
   "execution_count": 7
  },
  {
   "metadata": {
    "ExecuteTime": {
     "end_time": "2024-07-17T02:24:50.090634Z",
     "start_time": "2024-07-17T02:24:50.071983Z"
    }
   },
   "cell_type": "code",
   "source": "print(todayMenuList[0:2])",
   "id": "5ebeb926997eb21c",
   "outputs": [
    {
     "name": "stdout",
     "output_type": "stream",
     "text": [
      "['0돈까스-8', '1모밀-7']\n"
     ]
    }
   ],
   "execution_count": 8
  },
  {
   "metadata": {
    "ExecuteTime": {
     "end_time": "2024-07-17T02:24:51.277624Z",
     "start_time": "2024-07-17T02:24:51.269350Z"
    }
   },
   "cell_type": "code",
   "source": "print(todayMenuList[6:-1])",
   "id": "25be3472cc9f4636",
   "outputs": [
    {
     "name": "stdout",
     "output_type": "stream",
     "text": [
      "['6된장찌개-2']\n"
     ]
    }
   ],
   "execution_count": 9
  },
  {
   "metadata": {
    "ExecuteTime": {
     "end_time": "2024-07-17T02:25:55.860118Z",
     "start_time": "2024-07-17T02:25:55.848520Z"
    }
   },
   "cell_type": "code",
   "source": "print(todayMenuList[4:])",
   "id": "88b64f540750c195",
   "outputs": [
    {
     "name": "stdout",
     "output_type": "stream",
     "text": [
      "['4제육볶음-4', '5국수-3', '6된장찌개-2', '7국밥-1']\n"
     ]
    }
   ],
   "execution_count": 10
  },
  {
   "metadata": {
    "ExecuteTime": {
     "end_time": "2024-07-17T02:26:22.329772Z",
     "start_time": "2024-07-17T02:26:22.313250Z"
    }
   },
   "cell_type": "code",
   "source": "print(todayMenuList[:4])",
   "id": "87e1385ab0c91200",
   "outputs": [
    {
     "name": "stdout",
     "output_type": "stream",
     "text": [
      "['0돈까스-8', '1모밀-7', '2도시락-6', '3참깨라면-5']\n"
     ]
    }
   ],
   "execution_count": 11
  },
  {
   "metadata": {
    "ExecuteTime": {
     "end_time": "2024-07-17T02:28:56.832367Z",
     "start_time": "2024-07-17T02:28:56.826628Z"
    }
   },
   "cell_type": "code",
   "source": "print(todayMenuList[1:8:2])",
   "id": "f27c477cd2e2414e",
   "outputs": [
    {
     "name": "stdout",
     "output_type": "stream",
     "text": [
      "['1모밀-7', '3참깨라면-5', '5국수-3', '7국밥-1']\n"
     ]
    }
   ],
   "execution_count": 12
  },
  {
   "metadata": {
    "ExecuteTime": {
     "end_time": "2024-07-17T02:29:32.240247Z",
     "start_time": "2024-07-17T02:29:32.235206Z"
    }
   },
   "cell_type": "code",
   "source": "print(todayMenuList[0:8:2])",
   "id": "f030f545e36c30a0",
   "outputs": [
    {
     "name": "stdout",
     "output_type": "stream",
     "text": [
      "['0돈까스-8', '2도시락-6', '4제육볶음-4', '6된장찌개-2']\n"
     ]
    }
   ],
   "execution_count": 13
  },
  {
   "metadata": {
    "ExecuteTime": {
     "end_time": "2024-07-17T02:30:19.518652Z",
     "start_time": "2024-07-17T02:30:19.504054Z"
    }
   },
   "cell_type": "code",
   "source": "print(todayMenuList[::-1])",
   "id": "ef88ec913f6fbf17",
   "outputs": [
    {
     "name": "stdout",
     "output_type": "stream",
     "text": [
      "['7국밥-1', '6된장찌개-2', '5국수-3', '4제육볶음-4', '3참깨라면-5', '2도시락-6', '1모밀-7', '0돈까스-8']\n"
     ]
    }
   ],
   "execution_count": 14
  },
  {
   "metadata": {
    "ExecuteTime": {
     "end_time": "2024-07-17T02:54:12.635942Z",
     "start_time": "2024-07-17T02:54:12.619800Z"
    }
   },
   "cell_type": "code",
   "source": [
    "menuResultIn = \"3참깨라면-5\" in todayMenuList\n",
    "print(menuResultIn)"
   ],
   "id": "c95d6348d0f88f1d",
   "outputs": [
    {
     "ename": "NameError",
     "evalue": "name 'todayMenuList' is not defined",
     "output_type": "error",
     "traceback": [
      "\u001B[1;31m---------------------------------------------------------------------------\u001B[0m",
      "\u001B[1;31mNameError\u001B[0m                                 Traceback (most recent call last)",
      "Cell \u001B[1;32mIn[14], line 1\u001B[0m\n\u001B[1;32m----> 1\u001B[0m menuResultIn \u001B[38;5;241m=\u001B[39m \u001B[38;5;124m\"\u001B[39m\u001B[38;5;124m3참깨라면-5\u001B[39m\u001B[38;5;124m\"\u001B[39m \u001B[38;5;129;01min\u001B[39;00m \u001B[43mtodayMenuList\u001B[49m\n\u001B[0;32m      2\u001B[0m \u001B[38;5;28mprint\u001B[39m(menuResultIn)\n",
      "\u001B[1;31mNameError\u001B[0m: name 'todayMenuList' is not defined"
     ]
    }
   ],
   "execution_count": 14
  },
  {
   "metadata": {
    "ExecuteTime": {
     "end_time": "2024-07-17T02:54:19.423649Z",
     "start_time": "2024-07-17T02:54:19.410363Z"
    }
   },
   "cell_type": "code",
   "source": [
    "todayMenuList.append(\"8라면\")\n",
    "print(todayMenuList)"
   ],
   "id": "c7e40702b6a132ed",
   "outputs": [
    {
     "ename": "NameError",
     "evalue": "name 'todayMenuList' is not defined",
     "output_type": "error",
     "traceback": [
      "\u001B[1;31m---------------------------------------------------------------------------\u001B[0m",
      "\u001B[1;31mNameError\u001B[0m                                 Traceback (most recent call last)",
      "Cell \u001B[1;32mIn[15], line 1\u001B[0m\n\u001B[1;32m----> 1\u001B[0m \u001B[43mtodayMenuList\u001B[49m\u001B[38;5;241m.\u001B[39mappend(\u001B[38;5;124m\"\u001B[39m\u001B[38;5;124m8라면\u001B[39m\u001B[38;5;124m\"\u001B[39m)\n\u001B[0;32m      2\u001B[0m \u001B[38;5;28mprint\u001B[39m(todayMenuList)\n",
      "\u001B[1;31mNameError\u001B[0m: name 'todayMenuList' is not defined"
     ]
    }
   ],
   "execution_count": 15
  },
  {
   "metadata": {
    "ExecuteTime": {
     "end_time": "2024-07-17T03:22:51.016017Z",
     "start_time": "2024-07-17T03:22:50.997730Z"
    }
   },
   "cell_type": "code",
   "source": [
    "# 초기 저녁 메뉴 리스트\n",
    "todayDinnerMenu = [\"참치회\", \"토마호크스테이크\", \"제비집\", \"샥스핀\", \"양고기\", \"건해삼\", \"다금바리회\", \"비어스테이크\"]\n",
    "\n",
    "# 전체 리스트 출력\n",
    "print(todayDinnerMenu[:])\n",
    "\n",
    "# 첫 번째와 두 번째 메뉴 출력\n",
    "print(todayDinnerMenu[0:2])\n",
    "\n",
    "# 6번째부터 마지막 전 메뉴 출력\n",
    "print(todayDinnerMenu[6:-1])\n",
    "\n",
    "# 4번째 메뉴부터 마지막 메뉴까지 출력\n",
    "print(todayDinnerMenu[4:])\n",
    "\n",
    "# 첫 번째부터 4번째 메뉴까지 출력\n",
    "print(todayDinnerMenu[:4])\n",
    "\n",
    "# 홀수 인덱스 메뉴만 출력 (1, 3, 5, 7번째 메뉴)\n",
    "print(todayDinnerMenu[1:8:2])\n",
    "\n",
    "# 짝수 인덱스 메뉴만 출력 (0, 2, 4, 6번째 메뉴)\n",
    "print(todayDinnerMenu[0:8:2])\n",
    "\n",
    "# 리스트를 역순으로 출력\n",
    "print(todayDinnerMenu[::-1])\n",
    "\n",
    "# 새로운 메뉴 추가\n",
    "todayDinnerMenu.append(\"고르곤졸라피자\")\n",
    "print(todayDinnerMenu)\n",
    "\n",
    "# 특정 인덱스에 메뉴 삽입\n",
    "todayDinnerMenu.insert(2, \"로제파스타\")\n",
    "print(todayDinnerMenu)\n",
    "\n",
    "# 메뉴 수정 (인덱스 0번 메뉴 수정)\n",
    "todayDinnerMenu[0] = \"소고기리조또\"\n",
    "print(todayDinnerMenu)\n",
    "\n",
    "# 메뉴 삭제 (인덱스 3번 메뉴 삭제)\n",
    "del todayDinnerMenu[3]\n",
    "print(todayDinnerMenu)\n",
    "\n",
    "# 슬라이싱을 통한 부분 리스트 재할당 (2번째부터 4번째 메뉴를 변경)\n",
    "todayDinnerMenu[2:5] = [\"삼계탕\", \"장어구이\", \"구절판\"]\n",
    "print(todayDinnerMenu)\n",
    "\n",
    "# 특정 메뉴 삭제 (값으로 삭제)\n",
    "todayDinnerMenu.remove(\"비어스테이크\")\n",
    "print(todayDinnerMenu)\n",
    "\n",
    "# 리스트에서 특정 메뉴의 인덱스 조회\n",
    "if \"건해삼\" in todayDinnerMenu:\n",
    "    index = todayDinnerMenu.index(\"건해삼\")\n",
    "    print(f\"'건해삼'의 인덱스: {index}\")\n",
    "else:\n",
    "    print(\"'건해삼' 메뉴가 리스트에 없습니다.\")\n",
    "\n",
    "# 리스트 길이 확인\n",
    "print(f\"리스트 길이: {len(todayDinnerMenu)}\")"
   ],
   "id": "4ee73f39b3e8d96d",
   "outputs": [
    {
     "name": "stdout",
     "output_type": "stream",
     "text": [
      "['참치회', '토마호크스테이크', '제비집', '샥스핀', '양고기', '건해삼', '다금바리회', '비어스테이크']\n",
      "['참치회', '토마호크스테이크']\n",
      "['다금바리회']\n",
      "['양고기', '건해삼', '다금바리회', '비어스테이크']\n",
      "['참치회', '토마호크스테이크', '제비집', '샥스핀']\n",
      "['토마호크스테이크', '샥스핀', '건해삼', '비어스테이크']\n",
      "['참치회', '제비집', '양고기', '다금바리회']\n",
      "['비어스테이크', '다금바리회', '건해삼', '양고기', '샥스핀', '제비집', '토마호크스테이크', '참치회']\n",
      "['참치회', '토마호크스테이크', '제비집', '샥스핀', '양고기', '건해삼', '다금바리회', '비어스테이크', '고르곤졸라피자']\n",
      "['참치회', '토마호크스테이크', '로제파스타', '제비집', '샥스핀', '양고기', '건해삼', '다금바리회', '비어스테이크', '고르곤졸라피자']\n",
      "['소고기리조또', '토마호크스테이크', '로제파스타', '제비집', '샥스핀', '양고기', '건해삼', '다금바리회', '비어스테이크', '고르곤졸라피자']\n",
      "['소고기리조또', '토마호크스테이크', '로제파스타', '샥스핀', '양고기', '건해삼', '다금바리회', '비어스테이크', '고르곤졸라피자']\n",
      "['소고기리조또', '토마호크스테이크', '삼계탕', '장어구이', '구절판', '건해삼', '다금바리회', '비어스테이크', '고르곤졸라피자']\n",
      "['소고기리조또', '토마호크스테이크', '삼계탕', '장어구이', '구절판', '건해삼', '다금바리회', '고르곤졸라피자']\n",
      "'건해삼'의 인덱스: 5\n",
      "리스트 길이: 8\n"
     ]
    }
   ],
   "execution_count": 7
  },
  {
   "metadata": {
    "ExecuteTime": {
     "end_time": "2024-07-17T03:24:57.583999Z",
     "start_time": "2024-07-17T03:24:57.566396Z"
    }
   },
   "cell_type": "code",
   "source": [
    "todayDinnerMenu = [\"참치회\", \"토마호크스테이크\", \"제비집\", \"샥스핀\", \"양고기\", \"건해삼\", \"다금바리회\", \"비어스테이크\"]\n",
    "print(todayDinnerMenu)"
   ],
   "id": "370af9c132e83106",
   "outputs": [
    {
     "name": "stdout",
     "output_type": "stream",
     "text": [
      "['참치회', '토마호크스테이크', '제비집', '샥스핀', '양고기', '건해삼', '다금바리회', '비어스테이크']\n"
     ]
    }
   ],
   "execution_count": 9
  },
  {
   "metadata": {
    "ExecuteTime": {
     "end_time": "2024-07-17T03:25:19.910985Z",
     "start_time": "2024-07-17T03:25:19.907691Z"
    }
   },
   "cell_type": "code",
   "source": [
    "todayDinnerMenu.append(\"고르곤졸라피자\")\n",
    "print(todayDinnerMenu)"
   ],
   "id": "c7663dcc4597dd47",
   "outputs": [
    {
     "name": "stdout",
     "output_type": "stream",
     "text": [
      "['참치회', '토마호크스테이크', '제비집', '샥스핀', '양고기', '건해삼', '다금바리회', '비어스테이크', '고르곤졸라피자']\n"
     ]
    }
   ],
   "execution_count": 10
  },
  {
   "metadata": {
    "ExecuteTime": {
     "end_time": "2024-07-17T03:25:29.787777Z",
     "start_time": "2024-07-17T03:25:29.783981Z"
    }
   },
   "cell_type": "code",
   "source": [
    "todayDinnerMenu.insert(2, \"로제파스타\")\n",
    "print(todayDinnerMenu)"
   ],
   "id": "ab1115ab3dea7eb",
   "outputs": [
    {
     "name": "stdout",
     "output_type": "stream",
     "text": [
      "['참치회', '토마호크스테이크', '로제파스타', '제비집', '샥스핀', '양고기', '건해삼', '다금바리회', '비어스테이크', '고르곤졸라피자']\n"
     ]
    }
   ],
   "execution_count": 11
  },
  {
   "metadata": {
    "ExecuteTime": {
     "end_time": "2024-07-17T03:25:37.958496Z",
     "start_time": "2024-07-17T03:25:37.954418Z"
    }
   },
   "cell_type": "code",
   "source": [
    "todayDinnerMenu[0] = \"소고기리조또\"\n",
    "print(todayDinnerMenu)"
   ],
   "id": "1e43dd74bf2689aa",
   "outputs": [
    {
     "name": "stdout",
     "output_type": "stream",
     "text": [
      "['소고기리조또', '토마호크스테이크', '로제파스타', '제비집', '샥스핀', '양고기', '건해삼', '다금바리회', '비어스테이크', '고르곤졸라피자']\n"
     ]
    }
   ],
   "execution_count": 12
  },
  {
   "metadata": {
    "ExecuteTime": {
     "end_time": "2024-07-17T03:26:00.824110Z",
     "start_time": "2024-07-17T03:26:00.821443Z"
    }
   },
   "cell_type": "code",
   "source": [
    "del todayDinnerMenu[3]\n",
    "print(todayDinnerMenu)"
   ],
   "id": "8e0e4ea4aa1f547c",
   "outputs": [
    {
     "name": "stdout",
     "output_type": "stream",
     "text": [
      "['소고기리조또', '토마호크스테이크', '로제파스타', '샥스핀', '양고기', '건해삼', '다금바리회', '비어스테이크', '고르곤졸라피자']\n"
     ]
    }
   ],
   "execution_count": 13
  },
  {
   "metadata": {
    "ExecuteTime": {
     "end_time": "2024-07-17T03:26:14.218720Z",
     "start_time": "2024-07-17T03:26:14.213054Z"
    }
   },
   "cell_type": "code",
   "source": [
    "todayDinnerMenu[2:5] = [\"삼계탕\", \"장어구이\", \"구절판\"]\n",
    "print(todayDinnerMenu)"
   ],
   "id": "7a018e5da45873e2",
   "outputs": [
    {
     "name": "stdout",
     "output_type": "stream",
     "text": [
      "['소고기리조또', '토마호크스테이크', '삼계탕', '장어구이', '구절판', '건해삼', '다금바리회', '비어스테이크', '고르곤졸라피자']\n"
     ]
    }
   ],
   "execution_count": 14
  },
  {
   "metadata": {
    "ExecuteTime": {
     "end_time": "2024-07-17T03:26:31.326122Z",
     "start_time": "2024-07-17T03:26:31.308383Z"
    }
   },
   "cell_type": "code",
   "source": [
    "todayDinnerMenu.remove(\"비어스테이크\")\n",
    "print(todayDinnerMenu)"
   ],
   "id": "bd0bf1589e93e9cc",
   "outputs": [
    {
     "name": "stdout",
     "output_type": "stream",
     "text": [
      "['소고기리조또', '토마호크스테이크', '삼계탕', '장어구이', '구절판', '건해삼', '다금바리회', '고르곤졸라피자']\n"
     ]
    }
   ],
   "execution_count": 15
  },
  {
   "metadata": {
    "ExecuteTime": {
     "end_time": "2024-07-17T03:27:04.067827Z",
     "start_time": "2024-07-17T03:27:04.063985Z"
    }
   },
   "cell_type": "code",
   "source": [
    "if \"샥스핀\" in todayDinnerMenu:\n",
    "    index = todayDinnerMenu.index(\"샥스핀\")\n",
    "    print(f\"'샥스핀'의 인덱스: {index}\")\n",
    "else:\n",
    "    print(\"'샥스핀' 메뉴가 리스트에 없습니다.\")"
   ],
   "id": "9f7a081741b515c9",
   "outputs": [
    {
     "name": "stdout",
     "output_type": "stream",
     "text": [
      "'샥스핀' 메뉴가 리스트에 없습니다.\n"
     ]
    }
   ],
   "execution_count": 16
  },
  {
   "metadata": {
    "ExecuteTime": {
     "end_time": "2024-07-17T03:27:31.174193Z",
     "start_time": "2024-07-17T03:27:31.159898Z"
    }
   },
   "cell_type": "code",
   "source": "print(todayDinnerMenu)",
   "id": "e459dba5b0e6c57f",
   "outputs": [
    {
     "name": "stdout",
     "output_type": "stream",
     "text": [
      "['소고기리조또', '토마호크스테이크', '삼계탕', '장어구이', '구절판', '건해삼', '다금바리회', '고르곤졸라피자']\n"
     ]
    }
   ],
   "execution_count": 17
  },
  {
   "metadata": {
    "ExecuteTime": {
     "end_time": "2024-07-17T05:19:34.274202Z",
     "start_time": "2024-07-17T05:19:34.261327Z"
    }
   },
   "cell_type": "code",
   "source": [
    "for i in range(10,1,-1):\n",
    "    print(i)"
   ],
   "id": "3210175139c86949",
   "outputs": [
    {
     "name": "stdout",
     "output_type": "stream",
     "text": [
      "10\n",
      "9\n",
      "8\n",
      "7\n",
      "6\n",
      "5\n",
      "4\n",
      "3\n",
      "2\n"
     ]
    }
   ],
   "execution_count": 18
  },
  {
   "metadata": {
    "ExecuteTime": {
     "end_time": "2024-07-17T05:31:52.238101Z",
     "start_time": "2024-07-17T05:31:52.218855Z"
    }
   },
   "cell_type": "code",
   "source": [
    "decimal = 10\n",
    "result = ''\n",
    "while (decimal > 0):\n",
    "    remainder = decimal % 2\n",
    "    decimal = decimal // 2\n",
    "    result = str(remainder) + result\n",
    "print(result)"
   ],
   "id": "b4d0e46388688e06",
   "outputs": [
    {
     "name": "stdout",
     "output_type": "stream",
     "text": [
      "1010\n"
     ]
    }
   ],
   "execution_count": 23
  },
  {
   "metadata": {
    "ExecuteTime": {
     "end_time": "2024-07-17T05:38:46.224181Z",
     "start_time": "2024-07-17T05:38:23.310711Z"
    }
   },
   "cell_type": "code",
   "source": [
    "import random\n",
    "guess_number = random.randint(1, 100)\n",
    "print(\"숫자를 맞혀 보세요. (1~100)\")\n",
    "users_input = int(input())\n",
    "while (users_input is not guess_number):\n",
    "    if users_input > guess_number:\n",
    "        print(\"숫자가 너무 큽니다.\")\n",
    "    else:\n",
    "        print(\"숫자가 너무 작습니다.\")\n",
    "    users_input = int(input())\n",
    "else:\n",
    "    print(\"정답입니다.\", \"입력한 숫자는\", users_input, \"입니다.\")"
   ],
   "id": "3f15e55524f3fe3b",
   "outputs": [
    {
     "name": "stdout",
     "output_type": "stream",
     "text": [
      "숫자를 맞혀 보세요. (1~100)\n",
      "숫자가 너무 큽니다.\n",
      "숫자가 너무 큽니다.\n",
      "숫자가 너무 큽니다.\n",
      "숫자가 너무 큽니다.\n",
      "숫자가 너무 큽니다.\n",
      "숫자가 너무 큽니다.\n",
      "숫자가 너무 큽니다.\n",
      "숫자가 너무 큽니다.\n",
      "숫자가 너무 큽니다.\n",
      "숫자가 너무 작습니다.\n",
      "숫자가 너무 작습니다.\n",
      "숫자가 너무 작습니다.\n",
      "숫자가 너무 작습니다.\n",
      "숫자가 너무 작습니다.\n",
      "숫자가 너무 작습니다.\n",
      "정답입니다. 입력한 숫자는 6 입니다.\n"
     ]
    }
   ],
   "execution_count": 25
  },
  {
   "metadata": {
    "ExecuteTime": {
     "end_time": "2024-07-17T06:24:01.794528Z",
     "start_time": "2024-07-17T06:24:01.785799Z"
    }
   },
   "cell_type": "code",
   "source": [
    "def f(x):\n",
    "    y = x\n",
    "    x = 5\n",
    "    return y * y\n",
    "\n",
    "x = 3\n",
    "print(f(x))\n",
    "print(x)"
   ],
   "id": "d08497e68459a8ec",
   "outputs": [
    {
     "name": "stdout",
     "output_type": "stream",
     "text": [
      "9\n",
      "3\n"
     ]
    }
   ],
   "execution_count": 26
  },
  {
   "metadata": {
    "ExecuteTime": {
     "end_time": "2024-07-17T06:26:04.867674Z",
     "start_time": "2024-07-17T06:26:04.863586Z"
    }
   },
   "cell_type": "code",
   "source": [
    "def spam(eggs):\n",
    "    eggs.append(1)\n",
    "    eggs = [2,3]\n",
    "    \n",
    "ham = [0]\n",
    "spam(ham)\n",
    "print(ham)"
   ],
   "id": "ef3c319d9e4b434d",
   "outputs": [
    {
     "name": "stdout",
     "output_type": "stream",
     "text": [
      "[0, 1]\n"
     ]
    }
   ],
   "execution_count": 27
  },
  {
   "metadata": {},
   "cell_type": "code",
   "outputs": [],
   "execution_count": null,
   "source": "",
   "id": "ae99ed1a036f640"
  }
 ],
 "metadata": {
  "kernelspec": {
   "display_name": "Python 3",
   "language": "python",
   "name": "python3"
  },
  "language_info": {
   "codemirror_mode": {
    "name": "ipython",
    "version": 2
   },
   "file_extension": ".py",
   "mimetype": "text/x-python",
   "name": "python",
   "nbconvert_exporter": "python",
   "pygments_lexer": "ipython2",
   "version": "2.7.6"
  }
 },
 "nbformat": 4,
 "nbformat_minor": 5
}

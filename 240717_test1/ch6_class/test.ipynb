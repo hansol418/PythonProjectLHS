{
 "cells": [
  {
   "cell_type": "code",
   "id": "initial_id",
   "metadata": {
    "collapsed": true,
    "ExecuteTime": {
     "end_time": "2024-07-18T05:54:38.677831Z",
     "start_time": "2024-07-18T05:54:38.672645Z"
    }
   },
   "source": [
    "class CatSoccerPlayer(object):\n",
    "    def __init__(self,name,position,back_number):\n",
    "        self.name = name\n",
    "        self.position = position\n",
    "        self.back_number = back_number\n",
    "        \n",
    "    def change_back_number(self,new_number):\n",
    "        print(f'')\n",
    "        self.back_number = new_number\n",
    "        \n",
    "    def __str__(self):\n",
    "        return f'이름:{self.name}, 포지션: {self.back_number}, 등번호: {self.back_number}'"
   ],
   "outputs": [],
   "execution_count": 30
  },
  {
   "metadata": {
    "ExecuteTime": {
     "end_time": "2024-07-18T05:54:38.682966Z",
     "start_time": "2024-07-18T05:54:38.677831Z"
    }
   },
   "cell_type": "code",
   "source": [
    "#인스턴스 생성하기. \n",
    "lsyCatPlayer1 = CatSoccerPlayer(\"상용고양이선수1\", \"MF\", \"100\")\n",
    "print(lsyCatPlayer1)"
   ],
   "id": "efac4bc49fa6bb60",
   "outputs": [
    {
     "name": "stdout",
     "output_type": "stream",
     "text": [
      "이름:상용고양이선수1, 포지션: 100, 등번호: 100\n"
     ]
    }
   ],
   "execution_count": 31
  },
  {
   "metadata": {
    "ExecuteTime": {
     "end_time": "2024-07-18T05:54:38.687791Z",
     "start_time": "2024-07-18T05:54:38.682966Z"
    }
   },
   "cell_type": "code",
   "source": "lsyCatPlayer1.change_back_number(\"200\")",
   "id": "d0eb560abf964ae4",
   "outputs": [
    {
     "name": "stdout",
     "output_type": "stream",
     "text": [
      "\n"
     ]
    }
   ],
   "execution_count": 32
  },
  {
   "metadata": {
    "ExecuteTime": {
     "end_time": "2024-07-18T05:54:38.694869Z",
     "start_time": "2024-07-18T05:54:38.687791Z"
    }
   },
   "cell_type": "code",
   "source": [
    "lsyCatPlayer1.change_back_number(\"200\")\n",
    "\n",
    "\n",
    "# name, position, back_number\n",
    "class LoadCat(CatSoccerPlayer):\n",
    "    def __init__(self, name, position, back_number, team_name, salary):\n",
    "        super().__init__(name, position, back_number)\n",
    "        self.team_name = team_name\n",
    "        self.salary = salary\n",
    "\n",
    "    def upgrade_salary(self, new_salary):\n",
    "        self.salary = new_salary\n",
    "        print(f\"{self.name}님의 연봉은 곧 {new_salary}로 곧 상향됨\")\n",
    "\n",
    "    def change_back_number(self, new_number):\n",
    "        super().change_back_number()\n",
    "        print(\"부모 메서드 호출 후, 내꺼 메서드 호출함. \")\n",
    "\n",
    "    def __str__(self):\n",
    "        return \"안녕하세용 길고양이 선수 : %s, 연봉은 : %s , 소속팀은: %s 만나서 반가워요\" % (self.name, self.position, self.back_number)\n",
    "\n",
    "    "
   ],
   "id": "bf85bdbff3e496e1",
   "outputs": [
    {
     "name": "stdout",
     "output_type": "stream",
     "text": [
      "\n"
     ]
    }
   ],
   "execution_count": 33
  },
  {
   "metadata": {
    "ExecuteTime": {
     "end_time": "2024-07-18T05:54:50.740836Z",
     "start_time": "2024-07-18T05:54:50.727925Z"
    }
   },
   "cell_type": "code",
   "source": [
    "lsyLoadCat = LoadCat(\"상용길고양이\",\"MF\",\"100\",\"한국 국가대표 길고양이팀\",\"1억\")\n",
    "print(lsyLoadCat)"
   ],
   "id": "5df7d8d5118a9a72",
   "outputs": [
    {
     "name": "stdout",
     "output_type": "stream",
     "text": [
      "안녕하세용 길고양이 선수 : 상용길고양이, 연봉은 : MF , 소속팀은: 100 만나서 반가워요\n"
     ]
    }
   ],
   "execution_count": 34
  },
  {
   "metadata": {},
   "cell_type": "code",
   "outputs": [],
   "execution_count": null,
   "source": "",
   "id": "6680b30e3964df5d"
  }
 ],
 "metadata": {
  "kernelspec": {
   "display_name": "Python 3",
   "language": "python",
   "name": "python3"
  },
  "language_info": {
   "codemirror_mode": {
    "name": "ipython",
    "version": 2
   },
   "file_extension": ".py",
   "mimetype": "text/x-python",
   "name": "python",
   "nbconvert_exporter": "python",
   "pygments_lexer": "ipython2",
   "version": "2.7.6"
  }
 },
 "nbformat": 4,
 "nbformat_minor": 5
}

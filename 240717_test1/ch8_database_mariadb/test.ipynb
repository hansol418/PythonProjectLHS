{
 "cells": [
  {
   "metadata": {},
   "cell_type": "markdown",
   "source": [
    "create database pydb;\n",
    " use pydb;\n",
    "CREATE TABLE book (\n",
    " id INT NOT NULL AUTO_INCREMENT,\n",
    " title VARCHAR(200),\n",
    " pub VARCHAR(45),\n",
    " pages INT,\n",
    " author VARCHAR(100),\n",
    " PRIMARY KEY (id)\n",
    ");"
   ],
   "id": "5904e465000bff88"
  },
  {
   "metadata": {
    "ExecuteTime": {
     "end_time": "2024-07-18T07:38:26.686540Z",
     "start_time": "2024-07-18T07:38:26.680578Z"
    }
   },
   "cell_type": "code",
   "source": [
    "#마리아디비 연결 설정\n",
    "import pymysql\n"
   ],
   "id": "34a4b12cf36f2125",
   "outputs": [],
   "execution_count": 14
  },
  {
   "metadata": {
    "ExecuteTime": {
     "end_time": "2024-07-18T07:41:00.019360Z",
     "start_time": "2024-07-18T07:41:00.004331Z"
    }
   },
   "cell_type": "code",
   "source": [
    "#select 예제\n",
    "conn = pymysql.connect(\n",
    "host='127.0.0.1', \n",
    "user='root', \n",
    "password='123456',\n",
    " db='pydb', \n",
    "charset='utf8')\n",
    "cur = conn.cursor()\n",
    "cur.execute(\"SELECT * FROM book\")\n",
    "\n",
    "print(\"ID    title    writer         \")\n",
    "print(\"--------------------------------------------------------\")\n",
    "\n",
    "while (True):\n",
    "    row = cur.fetchone()\n",
    "    if row == None:\n",
    "        break\n",
    "    data1 = row[0]\n",
    "    data2 = row[1]\n",
    "    data3 = row[2]\n",
    "    \n",
    "    print(\"%5s   %15s   %15s \\n\" % (data1, data2, data3))\n",
    "    # print(f\" ID: {data1}, title: {data2}, writer: {data3}\")\n",
    "\n",
    "conn.close()"
   ],
   "id": "d7fb9ec962dc3fb2",
   "outputs": [
    {
     "name": "stdout",
     "output_type": "stream",
     "text": [
      "ID    title    writer         \n",
      "--------------------------------------------------------\n",
      "    1             안드로이드                한빛 \n",
      "\n",
      "    2             안드로이드                한빛 \n",
      "\n",
      "    3             안드로이드                한빛 \n",
      "\n",
      "    4         Oracle DB                한빛 \n",
      "\n",
      "    5            Spring                영딘 \n",
      "\n",
      "    6             안드로이드                한빛 \n",
      "\n",
      "    7             안드로이드                한빛 \n",
      "\n",
      "    8         Oracle DB                한빛 \n",
      "\n",
      "    9            Spring                영딘 \n",
      "\n",
      "   10             안드로이드                한빛 \n",
      "\n",
      "   11             안드로이드                한빛 \n",
      "\n",
      "   12         Oracle DB                한빛 \n",
      "\n",
      "   13            Spring                영딘 \n",
      "\n",
      "   14             안드로이드                한빛 \n",
      "\n",
      "   15             안드로이드                한빛 \n",
      "\n",
      "   16         Oracle DB                한빛 \n",
      "\n",
      "   17            Spring                영딘 \n",
      "\n"
     ]
    }
   ],
   "execution_count": 20
  },
  {
   "metadata": {
    "ExecuteTime": {
     "end_time": "2024-07-18T07:38:26.717764Z",
     "start_time": "2024-07-18T07:38:26.707789Z"
    }
   },
   "cell_type": "code",
   "source": [
    "#insert 예제\n",
    "def insert_book(data):\n",
    "    conn=pymysql.connect(host='localhost',user='root',password='123456', db='pydb', charset='utf8')\n",
    "    cursor=conn.cursor()\n",
    "    sql=\"insert into book(title,pub,pages,author) values(%s,%s,%s,%s)\"\n",
    "    cursor.execute(sql,data)\n",
    "    conn.commit()\n",
    "    conn.close()\n",
    "    \n",
    "data=('안드로이드','한빛',650,'홍길동')\n",
    "insert_book(data)\n",
    "\n",
    "def insert_book_list(datas):\n",
    "    conn=pymysql.connect(host='localhost',user='root',password='123456',db='pydb',charset='utf8')\n",
    "    cursor=conn.cursor()\n",
    "    sql=\"insert into book(title,pub,pages,author) values(%s,%s,%s,%s)\"\n",
    "    cursor.executemany(sql,datas)\n",
    "    conn.commit()\n",
    "    conn.close()\n",
    "datas=[('안드로이드','한빛',650,'홍길동'),\n",
    " ('Oracle DB','한빛',650,'홍길동'),\n",
    " ('Spring','영딘',650,'홍길동')]\n",
    "insert_book_list(datas)"
   ],
   "id": "7669a49e62c0b917",
   "outputs": [],
   "execution_count": 16
  },
  {
   "metadata": {
    "ExecuteTime": {
     "end_time": "2024-07-18T07:44:00.545013Z",
     "start_time": "2024-07-18T07:44:00.536743Z"
    }
   },
   "cell_type": "code",
   "source": [
    "def select_all():\n",
    "  conn=pymysql.connect(host='localhost',\n",
    "    user='root',\n",
    "    password='123456', \n",
    "    db='pydb', \n",
    "    charset='utf8')\n",
    "  cursor=conn.cursor()\n",
    "  sql=\"select * from book\"\n",
    "  cursor.execute(sql)\n",
    "  for book in cursor:\n",
    "   print(book)\n",
    "  conn.close()\n",
    "select_all()\n"
   ],
   "id": "5f6ce09a33cc6ef1",
   "outputs": [
    {
     "name": "stdout",
     "output_type": "stream",
     "text": [
      "(1, '안드로이드', '한빛', 650, '홍길동')\n",
      "(2, '안드로이드', '한빛', 650, '홍길동')\n",
      "(3, '안드로이드', '한빛', 650, '홍길동')\n",
      "(4, 'Oracle DB', '한빛', 650, '홍길동')\n",
      "(5, 'Spring', '영딘', 650, '홍길동')\n",
      "(6, '안드로이드', '한빛', 650, '홍길동')\n",
      "(7, '안드로이드', '한빛', 650, '홍길동')\n",
      "(8, 'Oracle DB', '한빛', 650, '홍길동')\n",
      "(9, 'Spring', '영딘', 650, '홍길동')\n",
      "(10, '안드로이드', '한빛', 650, '홍길동')\n",
      "(11, '안드로이드', '한빛', 650, '홍길동')\n",
      "(12, 'Oracle DB', '한빛', 650, '홍길동')\n",
      "(13, 'Spring', '영딘', 650, '홍길동')\n",
      "(14, '안드로이드', '한빛', 650, '홍길동')\n",
      "(15, '안드로이드', '한빛', 650, '홍길동')\n",
      "(16, 'Oracle DB', '한빛', 650, '홍길동')\n",
      "(17, 'Spring', '영딘', 650, '홍길동')\n"
     ]
    }
   ],
   "execution_count": 23
  },
  {
   "metadata": {
    "ExecuteTime": {
     "end_time": "2024-07-18T07:44:05.579112Z",
     "start_time": "2024-07-18T07:44:05.544586Z"
    }
   },
   "cell_type": "code",
   "source": [
    "def update_book(data):\n",
    "  conn=pymysql.connect(host='localhost',user='root',password='123456',db='pydb',charset='utf8')\n",
    "  cursor=conn.cursor()\n",
    "  sql=\"update book set title=%s, pub=%s, pages=%s, author=%s where id=%s\"\n",
    "  cursor.execute(sql,data)\n",
    "  conn.commit()\n",
    "  conn.close()\n",
    "data=('Java', '생능','700','홍길동',1)\n",
    "update_book(data)\n",
    "select_all()\n"
   ],
   "id": "4a0ce808a8b90b89",
   "outputs": [
    {
     "name": "stdout",
     "output_type": "stream",
     "text": [
      "(1, 'Java', '생능', 700, '홍길동')\n",
      "(2, '안드로이드', '한빛', 650, '홍길동')\n",
      "(3, '안드로이드', '한빛', 650, '홍길동')\n",
      "(4, 'Oracle DB', '한빛', 650, '홍길동')\n",
      "(5, 'Spring', '영딘', 650, '홍길동')\n",
      "(6, '안드로이드', '한빛', 650, '홍길동')\n",
      "(7, '안드로이드', '한빛', 650, '홍길동')\n",
      "(8, 'Oracle DB', '한빛', 650, '홍길동')\n",
      "(9, 'Spring', '영딘', 650, '홍길동')\n",
      "(10, '안드로이드', '한빛', 650, '홍길동')\n",
      "(11, '안드로이드', '한빛', 650, '홍길동')\n",
      "(12, 'Oracle DB', '한빛', 650, '홍길동')\n",
      "(13, 'Spring', '영딘', 650, '홍길동')\n",
      "(14, '안드로이드', '한빛', 650, '홍길동')\n",
      "(15, '안드로이드', '한빛', 650, '홍길동')\n",
      "(16, 'Oracle DB', '한빛', 650, '홍길동')\n",
      "(17, 'Spring', '영딘', 650, '홍길동')\n"
     ]
    }
   ],
   "execution_count": 24
  },
  {
   "metadata": {
    "ExecuteTime": {
     "end_time": "2024-07-18T07:44:19.619272Z",
     "start_time": "2024-07-18T07:44:19.603141Z"
    }
   },
   "cell_type": "code",
   "source": [
    "def update_book(datas):\n",
    "  conn=pymysql.connect(host='localhost',user='root',password='123456',db='pydb',charset='utf8')\n",
    "  cursor=conn.cursor()\n",
    "  sql=\"update book set title=%s, pub=%s, pages=%s, author=%s where id=%s\"\n",
    "  cursor.executemany(sql,datas)\n",
    "  conn.commit()\n",
    "  conn.close()\n",
    "datas=[('Java2', '생능','700','최주호',2),\n",
    "  ('Java3', '한빛','700','홍길동',3),\n",
    "  ('Java4', '길벗','700','박경미',4)]\n",
    "update_book(datas)\n",
    "select_all()\n"
   ],
   "id": "a990fc6f44fc49e8",
   "outputs": [
    {
     "name": "stdout",
     "output_type": "stream",
     "text": [
      "(1, 'Java', '생능', 700, '홍길동')\n",
      "(2, 'Java2', '생능', 700, '최주호')\n",
      "(3, 'Java3', '한빛', 700, '홍길동')\n",
      "(4, 'Java4', '길벗', 700, '박경미')\n",
      "(5, 'Spring', '영딘', 650, '홍길동')\n",
      "(6, '안드로이드', '한빛', 650, '홍길동')\n",
      "(7, '안드로이드', '한빛', 650, '홍길동')\n",
      "(8, 'Oracle DB', '한빛', 650, '홍길동')\n",
      "(9, 'Spring', '영딘', 650, '홍길동')\n",
      "(10, '안드로이드', '한빛', 650, '홍길동')\n",
      "(11, '안드로이드', '한빛', 650, '홍길동')\n",
      "(12, 'Oracle DB', '한빛', 650, '홍길동')\n",
      "(13, 'Spring', '영딘', 650, '홍길동')\n",
      "(14, '안드로이드', '한빛', 650, '홍길동')\n",
      "(15, '안드로이드', '한빛', 650, '홍길동')\n",
      "(16, 'Oracle DB', '한빛', 650, '홍길동')\n",
      "(17, 'Spring', '영딘', 650, '홍길동')\n"
     ]
    }
   ],
   "execution_count": 25
  },
  {
   "metadata": {
    "ExecuteTime": {
     "end_time": "2024-07-18T07:45:40.307580Z",
     "start_time": "2024-07-18T07:45:40.289098Z"
    }
   },
   "cell_type": "code",
   "source": [
    "def delete_book(data):\n",
    "  conn=pymysql.connect(host='localhost',user='root',password='123456', \n",
    "  db='pydb', charset='utf8')\n",
    "  cursor=conn.cursor()\n",
    "  sql=\"delete from book where id=%s\"\n",
    "  #cursor.execute(sql,data)\n",
    "  cursor.executemany(sql,data)\n",
    "  conn.commit()\n",
    "  conn.close()\n",
    "#delete_book(4)\n",
    "delete_book([1,2])\n",
    "select_all()\n"
   ],
   "id": "28c7795a11ff05a",
   "outputs": [
    {
     "name": "stdout",
     "output_type": "stream",
     "text": [
      "(3, 'Java3', '한빛', 700, '홍길동')\n",
      "(4, 'Java4', '길벗', 700, '박경미')\n",
      "(5, 'Spring', '영딘', 650, '홍길동')\n",
      "(6, '안드로이드', '한빛', 650, '홍길동')\n",
      "(7, '안드로이드', '한빛', 650, '홍길동')\n",
      "(8, 'Oracle DB', '한빛', 650, '홍길동')\n",
      "(9, 'Spring', '영딘', 650, '홍길동')\n",
      "(10, '안드로이드', '한빛', 650, '홍길동')\n",
      "(11, '안드로이드', '한빛', 650, '홍길동')\n",
      "(12, 'Oracle DB', '한빛', 650, '홍길동')\n",
      "(13, 'Spring', '영딘', 650, '홍길동')\n",
      "(14, '안드로이드', '한빛', 650, '홍길동')\n",
      "(15, '안드로이드', '한빛', 650, '홍길동')\n",
      "(16, 'Oracle DB', '한빛', 650, '홍길동')\n",
      "(17, 'Spring', '영딘', 650, '홍길동')\n"
     ]
    }
   ],
   "execution_count": 26
  },
  {
   "metadata": {},
   "cell_type": "code",
   "outputs": [],
   "execution_count": null,
   "source": "",
   "id": "c7f466b91e48e7bd"
  }
 ],
 "metadata": {
  "kernelspec": {
   "display_name": "Python 3",
   "language": "python",
   "name": "python3"
  },
  "language_info": {
   "codemirror_mode": {
    "name": "ipython",
    "version": 2
   },
   "file_extension": ".py",
   "mimetype": "text/x-python",
   "name": "python",
   "nbconvert_exporter": "python",
   "pygments_lexer": "ipython2",
   "version": "2.7.6"
  }
 },
 "nbformat": 4,
 "nbformat_minor": 5
}

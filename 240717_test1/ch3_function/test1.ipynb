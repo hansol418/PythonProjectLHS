{
 "cells": [
  {
   "cell_type": "code",
   "id": "initial_id",
   "metadata": {
    "collapsed": true,
    "ExecuteTime": {
     "end_time": "2024-07-17T06:38:36.728609Z",
     "start_time": "2024-07-17T06:38:36.710331Z"
    }
   },
   "source": [
    "def spam(eggs):\n",
    "    eggs.append(1)\n",
    "    print(f'Spam(eggs): {eggs}')\n",
    "    eggs = [2,3]\n",
    "    \n",
    "ham = [0]\n",
    "print(f'ham 의 id 순서1 : {id(ham)}')\n",
    "spam(ham)\n",
    "print(f'ham 의 id 순서4: {id(ham)}')\n",
    "print(ham)"
   ],
   "outputs": [
    {
     "name": "stdout",
     "output_type": "stream",
     "text": [
      "ham 의 id 순서1 : 2865181940736\n",
      "Spam(eggs): [0, 1]\n",
      "ham 의 id 순서4: 2865181940736\n",
      "[0, 1]\n"
     ]
    }
   ],
   "execution_count": 1
  },
  {
   "metadata": {
    "ExecuteTime": {
     "end_time": "2024-07-17T06:40:55.816515Z",
     "start_time": "2024-07-17T06:40:55.590730Z"
    }
   },
   "cell_type": "code",
   "source": [
    "def test(t):\n",
    "    print(x)\n",
    "    t = 20\n",
    "    print(\"In Function:\", t)\n",
    "    \n",
    "x = 10\n",
    "test(x)\n",
    "print(\"In Main:\", x)\n",
    "print(\"In Main:\", t)"
   ],
   "id": "6057416c2e9dd1a0",
   "outputs": [
    {
     "name": "stdout",
     "output_type": "stream",
     "text": [
      "10\n",
      "In Function: 20\n",
      "In Main: 10\n"
     ]
    },
    {
     "ename": "NameError",
     "evalue": "name 't' is not defined",
     "output_type": "error",
     "traceback": [
      "\u001B[1;31m---------------------------------------------------------------------------\u001B[0m",
      "\u001B[1;31mNameError\u001B[0m                                 Traceback (most recent call last)",
      "Cell \u001B[1;32mIn[2], line 9\u001B[0m\n\u001B[0;32m      7\u001B[0m test(x)\n\u001B[0;32m      8\u001B[0m \u001B[38;5;28mprint\u001B[39m(\u001B[38;5;124m\"\u001B[39m\u001B[38;5;124mIn Main:\u001B[39m\u001B[38;5;124m\"\u001B[39m, x)\n\u001B[1;32m----> 9\u001B[0m \u001B[38;5;28mprint\u001B[39m(\u001B[38;5;124m\"\u001B[39m\u001B[38;5;124mIn Main:\u001B[39m\u001B[38;5;124m\"\u001B[39m, \u001B[43mt\u001B[49m)\n",
      "\u001B[1;31mNameError\u001B[0m: name 't' is not defined"
     ]
    }
   ],
   "execution_count": 2
  },
  {
   "metadata": {},
   "cell_type": "code",
   "outputs": [],
   "execution_count": null,
   "source": [
    "def f():\n",
    "    global s\n",
    "    s = \"I love busan\"\n",
    "    "
   ],
   "id": "e4d3adaeffe87858"
  },
  {
   "metadata": {
    "ExecuteTime": {
     "end_time": "2024-07-17T07:26:50.344512Z",
     "start_time": "2024-07-17T07:26:50.336032Z"
    }
   },
   "cell_type": "code",
   "source": [
    "# def sum(a,b,*args):\n",
    "#     return print(a+b+*args)\n",
    "# \n",
    "# print(sum(1,2,3,4))\n",
    " "
   ],
   "id": "9ea410bcb54dc293",
   "outputs": [
    {
     "ename": "SyntaxError",
     "evalue": "invalid syntax (1298253980.py, line 2)",
     "output_type": "error",
     "traceback": [
      "\u001B[1;36m  Cell \u001B[1;32mIn[5], line 2\u001B[1;36m\u001B[0m\n\u001B[1;33m    return print(a+b+*args)\u001B[0m\n\u001B[1;37m                     ^\u001B[0m\n\u001B[1;31mSyntaxError\u001B[0m\u001B[1;31m:\u001B[0m invalid syntax\n"
     ]
    }
   ],
   "execution_count": 5
  },
  {
   "metadata": {},
   "cell_type": "code",
   "outputs": [],
   "execution_count": null,
   "source": "",
   "id": "2e5365fb27b7b42"
  },
  {
   "metadata": {
    "ExecuteTime": {
     "end_time": "2024-07-17T07:32:39.748948Z",
     "start_time": "2024-07-17T07:32:39.719036Z"
    }
   },
   "cell_type": "code",
   "source": [
    "def sum2(a,b,*args):\n",
    "        return a + b + sum2(args)\n",
    "print(f\"sum2(1,2,3,4,5,6)의 결과 : {sum2(1,2,3,4,5,6)}\")  "
   ],
   "id": "76213c3b5d5c4c8",
   "outputs": [
    {
     "ename": "TypeError",
     "evalue": "sum2() missing 1 required positional argument: 'b'",
     "output_type": "error",
     "traceback": [
      "\u001B[1;31m---------------------------------------------------------------------------\u001B[0m",
      "\u001B[1;31mTypeError\u001B[0m                                 Traceback (most recent call last)",
      "Cell \u001B[1;32mIn[4], line 3\u001B[0m\n\u001B[0;32m      1\u001B[0m \u001B[38;5;28;01mdef\u001B[39;00m \u001B[38;5;21msum2\u001B[39m(a,b,\u001B[38;5;241m*\u001B[39margs):\n\u001B[0;32m      2\u001B[0m         \u001B[38;5;28;01mreturn\u001B[39;00m a \u001B[38;5;241m+\u001B[39m b \u001B[38;5;241m+\u001B[39m sum2(args)\n\u001B[1;32m----> 3\u001B[0m \u001B[38;5;28mprint\u001B[39m(\u001B[38;5;124mf\u001B[39m\u001B[38;5;124m\"\u001B[39m\u001B[38;5;124msum2(1,2,3,4,5,6)의 결과 : \u001B[39m\u001B[38;5;132;01m{\u001B[39;00m\u001B[43msum2\u001B[49m\u001B[43m(\u001B[49m\u001B[38;5;241;43m1\u001B[39;49m\u001B[43m,\u001B[49m\u001B[38;5;241;43m2\u001B[39;49m\u001B[43m,\u001B[49m\u001B[38;5;241;43m3\u001B[39;49m\u001B[43m,\u001B[49m\u001B[38;5;241;43m4\u001B[39;49m\u001B[43m,\u001B[49m\u001B[38;5;241;43m5\u001B[39;49m\u001B[43m,\u001B[49m\u001B[38;5;241;43m6\u001B[39;49m\u001B[43m)\u001B[49m\u001B[38;5;132;01m}\u001B[39;00m\u001B[38;5;124m\"\u001B[39m)  \n",
      "Cell \u001B[1;32mIn[4], line 2\u001B[0m, in \u001B[0;36msum2\u001B[1;34m(a, b, *args)\u001B[0m\n\u001B[0;32m      1\u001B[0m \u001B[38;5;28;01mdef\u001B[39;00m \u001B[38;5;21msum2\u001B[39m(a,b,\u001B[38;5;241m*\u001B[39margs):\n\u001B[1;32m----> 2\u001B[0m         \u001B[38;5;28;01mreturn\u001B[39;00m a \u001B[38;5;241m+\u001B[39m b \u001B[38;5;241m+\u001B[39m \u001B[43msum2\u001B[49m\u001B[43m(\u001B[49m\u001B[43margs\u001B[49m\u001B[43m)\u001B[49m\n",
      "\u001B[1;31mTypeError\u001B[0m: sum2() missing 1 required positional argument: 'b'"
     ]
    }
   ],
   "execution_count": 4
  },
  {
   "metadata": {
    "ExecuteTime": {
     "end_time": "2024-07-17T07:35:36.897383Z",
     "start_time": "2024-07-17T07:35:36.886748Z"
    }
   },
   "cell_type": "code",
   "source": [
    "def testKargs(**args):\n",
    "    print(args)\n",
    "    print(f\"키 값에 해당하는 value 값 조회 : {args[\"a\"]}\")\n",
    "    print(f\"키 값에 해당하는 value 값 조회 : {args[\"b\"]}\")\n",
    "    print(f\"키 값에 해당하는 value 값 조회 : {args[\"c\"]}\")\n",
    "    \n",
    "testKargs(a=1,b=2,c=3)"
   ],
   "id": "416b1a10febbaff9",
   "outputs": [
    {
     "name": "stdout",
     "output_type": "stream",
     "text": [
      "{'a': 1, 'b': 2, 'c': 3}\n",
      "키 값에 해당하는 value 값 조회 : 1\n",
      "키 값에 해당하는 value 값 조회 : 2\n",
      "키 값에 해당하는 value 값 조회 : 3\n"
     ]
    }
   ],
   "execution_count": 1
  },
  {
   "metadata": {
    "ExecuteTime": {
     "end_time": "2024-07-17T07:44:18.223645Z",
     "start_time": "2024-07-17T07:44:18.217983Z"
    }
   },
   "cell_type": "code",
   "source": [
    "def A(*args) :\n",
    "    x,y , *z = args\n",
    "    print(f\"z의 타입 : {type(z)}\")\n",
    "    return x,y,z\n",
    "\n",
    "print(f\"A(1,2) 의 결과 : {A(1,2)}\")\n",
    "print(f\"A(1,2,3) 의 결과 : {A(1,2,3)}\")\n",
    "print(f\"A(1,2,3,4,5) 의 결과 : {A(1,2,3,4,5)}\")"
   ],
   "id": "98eab51a4b0abe52",
   "outputs": [
    {
     "name": "stdout",
     "output_type": "stream",
     "text": [
      "z의 타입 : <class 'list'>\n",
      "A(1,2) 의 결과 : (1, 2, [])\n",
      "z의 타입 : <class 'list'>\n",
      "A(1,2,3) 의 결과 : (1, 2, [3])\n",
      "z의 타입 : <class 'list'>\n",
      "A(1,2,3,4,5) 의 결과 : (1, 2, [3, 4, 5])\n"
     ]
    }
   ],
   "execution_count": 2
  },
  {
   "metadata": {},
   "cell_type": "code",
   "outputs": [],
   "execution_count": null,
   "source": "",
   "id": "63cda5667d206eaf"
  }
 ],
 "metadata": {
  "kernelspec": {
   "display_name": "Python 3",
   "language": "python",
   "name": "python3"
  },
  "language_info": {
   "codemirror_mode": {
    "name": "ipython",
    "version": 2
   },
   "file_extension": ".py",
   "mimetype": "text/x-python",
   "name": "python",
   "nbconvert_exporter": "python",
   "pygments_lexer": "ipython2",
   "version": "2.7.6"
  }
 },
 "nbformat": 4,
 "nbformat_minor": 5
}

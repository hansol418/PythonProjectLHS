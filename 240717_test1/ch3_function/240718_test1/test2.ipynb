{
 "cells": [
  {
   "cell_type": "code",
   "id": "initial_id",
   "metadata": {
    "collapsed": true,
    "ExecuteTime": {
     "end_time": "2024-07-18T00:42:56.987259Z",
     "start_time": "2024-07-18T00:42:56.980663Z"
    }
   },
   "source": [
    "sampleStr = \"     test 오늘 점심 뭐 먹지?, 비가 오나요 menu : Korean Food     \"\n",
    "print(f\"len(sampleStr) : {len(sampleStr)}\")\n"
   ],
   "outputs": [
    {
     "name": "stdout",
     "output_type": "stream",
     "text": [
      "len(sampleStr) : 53\n"
     ]
    }
   ],
   "execution_count": 32
  },
  {
   "metadata": {
    "ExecuteTime": {
     "end_time": "2024-07-18T00:42:56.991815Z",
     "start_time": "2024-07-18T00:42:56.987259Z"
    }
   },
   "cell_type": "code",
   "source": "print(sampleStr.upper())",
   "id": "339e0488fb532041",
   "outputs": [
    {
     "name": "stdout",
     "output_type": "stream",
     "text": [
      "     TEST 오늘 점심 뭐 먹지?, 비가 오나요 MENU : KOREAN FOOD     \n"
     ]
    }
   ],
   "execution_count": 33
  },
  {
   "metadata": {
    "ExecuteTime": {
     "end_time": "2024-07-18T00:42:56.998408Z",
     "start_time": "2024-07-18T00:42:56.991815Z"
    }
   },
   "cell_type": "code",
   "source": "print(sampleStr.lower())",
   "id": "418295c2b0403e5",
   "outputs": [
    {
     "name": "stdout",
     "output_type": "stream",
     "text": [
      "     test 오늘 점심 뭐 먹지?, 비가 오나요 menu : korean food     \n"
     ]
    }
   ],
   "execution_count": 34
  },
  {
   "metadata": {
    "ExecuteTime": {
     "end_time": "2024-07-18T00:42:57.010253Z",
     "start_time": "2024-07-18T00:42:56.998408Z"
    }
   },
   "cell_type": "code",
   "source": "print(sampleStr.title())",
   "id": "a62c251f90c5ba12",
   "outputs": [
    {
     "name": "stdout",
     "output_type": "stream",
     "text": [
      "     Test 오늘 점심 뭐 먹지?, 비가 오나요 Menu : Korean Food     \n"
     ]
    }
   ],
   "execution_count": 35
  },
  {
   "metadata": {
    "ExecuteTime": {
     "end_time": "2024-07-18T00:42:57.016635Z",
     "start_time": "2024-07-18T00:42:57.010253Z"
    }
   },
   "cell_type": "code",
   "source": "print(sampleStr.capitalize())",
   "id": "6bef29063fe873b6",
   "outputs": [
    {
     "name": "stdout",
     "output_type": "stream",
     "text": [
      "     test 오늘 점심 뭐 먹지?, 비가 오나요 menu : korean food     \n"
     ]
    }
   ],
   "execution_count": 36
  },
  {
   "metadata": {
    "ExecuteTime": {
     "end_time": "2024-07-18T00:42:57.027238Z",
     "start_time": "2024-07-18T00:42:57.016635Z"
    }
   },
   "cell_type": "code",
   "source": "print(sampleStr.count(\"o\"))",
   "id": "8bab8e2717f3f2f4",
   "outputs": [
    {
     "name": "stdout",
     "output_type": "stream",
     "text": [
      "3\n"
     ]
    }
   ],
   "execution_count": 37
  },
  {
   "metadata": {
    "ExecuteTime": {
     "end_time": "2024-07-18T00:42:57.067865Z",
     "start_time": "2024-07-18T00:42:57.051206Z"
    }
   },
   "cell_type": "code",
   "source": "print(sampleStr.find(\"오\"))",
   "id": "82e45ac0825264ab",
   "outputs": [
    {
     "name": "stdout",
     "output_type": "stream",
     "text": [
      "10\n"
     ]
    }
   ],
   "execution_count": 38
  },
  {
   "metadata": {
    "ExecuteTime": {
     "end_time": "2024-07-18T00:42:57.083505Z",
     "start_time": "2024-07-18T00:42:57.067865Z"
    }
   },
   "cell_type": "code",
   "source": "print(sampleStr.rfind(\"오\"))",
   "id": "d3f1b80247ba35e7",
   "outputs": [
    {
     "name": "stdout",
     "output_type": "stream",
     "text": [
      "26\n"
     ]
    }
   ],
   "execution_count": 39
  },
  {
   "metadata": {
    "ExecuteTime": {
     "end_time": "2024-07-18T00:42:57.087329Z",
     "start_time": "2024-07-18T00:42:57.083505Z"
    }
   },
   "cell_type": "code",
   "source": "print(sampleStr.startswith(\"Te\"))",
   "id": "609f5de71a75169c",
   "outputs": [
    {
     "name": "stdout",
     "output_type": "stream",
     "text": [
      "False\n"
     ]
    }
   ],
   "execution_count": 40
  },
  {
   "metadata": {
    "ExecuteTime": {
     "end_time": "2024-07-18T00:42:57.107863Z",
     "start_time": "2024-07-18T00:42:57.102981Z"
    }
   },
   "cell_type": "code",
   "source": "print(sampleStr.endswith(\"d\"))",
   "id": "8ed72d5cc9944bfe",
   "outputs": [
    {
     "name": "stdout",
     "output_type": "stream",
     "text": [
      "False\n"
     ]
    }
   ],
   "execution_count": 41
  },
  {
   "metadata": {
    "ExecuteTime": {
     "end_time": "2024-07-18T00:42:57.142590Z",
     "start_time": "2024-07-18T00:42:57.139123Z"
    }
   },
   "cell_type": "code",
   "source": "print(sampleStr.strip())",
   "id": "2be6bfa0ac94f3da",
   "outputs": [
    {
     "name": "stdout",
     "output_type": "stream",
     "text": [
      "test 오늘 점심 뭐 먹지?, 비가 오나요 menu : Korean Food\n"
     ]
    }
   ],
   "execution_count": 42
  },
  {
   "metadata": {
    "ExecuteTime": {
     "end_time": "2024-07-18T00:43:18.406188Z",
     "start_time": "2024-07-18T00:43:18.387994Z"
    }
   },
   "cell_type": "code",
   "source": "print(sampleStr.lstrip())",
   "id": "a3ef36fbc981fa96",
   "outputs": [
    {
     "name": "stdout",
     "output_type": "stream",
     "text": [
      "test 오늘 점심 뭐 먹지?, 비가 오나요 menu : Korean Food     \n"
     ]
    }
   ],
   "execution_count": 43
  },
  {
   "metadata": {
    "ExecuteTime": {
     "end_time": "2024-07-18T00:43:35.472604Z",
     "start_time": "2024-07-18T00:43:35.455231Z"
    }
   },
   "cell_type": "code",
   "source": "print(sampleStr.rstrip())",
   "id": "147ae614601a6620",
   "outputs": [
    {
     "name": "stdout",
     "output_type": "stream",
     "text": [
      "     test 오늘 점심 뭐 먹지?, 비가 오나요 menu : Korean Food\n"
     ]
    }
   ],
   "execution_count": 44
  },
  {
   "metadata": {
    "ExecuteTime": {
     "end_time": "2024-07-18T00:44:02.804913Z",
     "start_time": "2024-07-18T00:44:02.792100Z"
    }
   },
   "cell_type": "code",
   "source": "print(sampleStr.split())",
   "id": "8a38ad1c9a28407d",
   "outputs": [
    {
     "name": "stdout",
     "output_type": "stream",
     "text": [
      "['test', '오늘', '점심', '뭐', '먹지?,', '비가', '오나요', 'menu', ':', 'Korean', 'Food']\n"
     ]
    }
   ],
   "execution_count": 45
  },
  {
   "metadata": {
    "ExecuteTime": {
     "end_time": "2024-07-18T00:45:18.930834Z",
     "start_time": "2024-07-18T00:45:18.926119Z"
    }
   },
   "cell_type": "code",
   "source": "print(sampleStr.isdigit())",
   "id": "1b4d083a7f0f2fcf",
   "outputs": [
    {
     "name": "stdout",
     "output_type": "stream",
     "text": [
      "False\n"
     ]
    }
   ],
   "execution_count": 46
  },
  {
   "metadata": {
    "ExecuteTime": {
     "end_time": "2024-07-18T01:12:35.695753Z",
     "start_time": "2024-07-18T01:12:35.676822Z"
    }
   },
   "cell_type": "code",
   "source": [
    "# yesterday 가사 파일 읽어서 , 메모리상에서 작업 해보기,\n",
    "f = open(\"yesterday.txt\", \"r\")\n",
    "# 메모리상에 파일을 읽은 f 객체를 메서드 이용해서, 문장 추출.\n",
    "yesterday_lyric = f.readlines()\n",
    "# 읽는 도구는 사용후 메모리 반납.\n",
    "f.close()\n",
    "print(yesterday_lyric)"
   ],
   "id": "56fd045b9a895edc",
   "outputs": [
    {
     "name": "stdout",
     "output_type": "stream",
     "text": [
      "['Yesterday all my troubles seemed so far away\\n', \"Now it looks as though they're here to stay\\n\", 'Oh, I believe in yesterday\\n', \"Suddenly I'm not half the man I used to be\\n\", \"There's a shadow hanging over me\\n\", 'Oh, yesterday came suddenly.\\n', \"Why she had to go I don't know,\\n\", \"she wouldn't say.\\n\", 'I said something wrong\\n', 'now I long for yesterday.\\n', 'Yesterday love was such an easy game to play\\n', 'Now I need a place to hide away\\n', 'Oh, I believe in yesterday\\n', \"Why she had to go I don't know\\n\", \"she wouldn't say\\n\", 'I said something wrong\\n', 'now I long for yesterday\\n', 'Yesterday love was such an easy game to play\\n', 'Now I need a place to hide away\\n', 'Oh, I believe in yesterday']\n"
     ]
    }
   ],
   "execution_count": 48
  },
  {
   "metadata": {
    "ExecuteTime": {
     "end_time": "2024-07-18T01:24:39.936164Z",
     "start_time": "2024-07-18T01:24:39.918820Z"
    }
   },
   "cell_type": "code",
   "source": [
    "# 한 문장씩 요소로 해서, 여러 문장을 리스트로 가지고 있고, \n",
    "# 다시, 하나의 문장으로 추출 작업\n",
    "# 임시로 담을 문자열 \n",
    "contents = \"\" \n",
    "for line in yesterday_lyric:\n",
    "    contents = contents + line.strip() + \"\\n\"\n",
    "print(f\"contents 하나의 문자열에 변수에 모든 문장 넣기: \\n{contents}\")"
   ],
   "id": "aaf010b713f6c9f9",
   "outputs": [
    {
     "name": "stdout",
     "output_type": "stream",
     "text": [
      "contents 하나의 문자열에 변수에 모든 문장 넣기: \n",
      "Yesterday all my troubles seemed so far away\n",
      "Now it looks as though they're here to stay\n",
      "Oh, I believe in yesterday\n",
      "Suddenly I'm not half the man I used to be\n",
      "There's a shadow hanging over me\n",
      "Oh, yesterday came suddenly.\n",
      "Why she had to go I don't know,\n",
      "she wouldn't say.\n",
      "I said something wrong\n",
      "now I long for yesterday.\n",
      "Yesterday love was such an easy game to play\n",
      "Now I need a place to hide away\n",
      "Oh, I believe in yesterday\n",
      "Why she had to go I don't know\n",
      "she wouldn't say\n",
      "I said something wrong\n",
      "now I long for yesterday\n",
      "Yesterday love was such an easy game to play\n",
      "Now I need a place to hide away\n",
      "Oh, I believe in yesterday\n",
      "\n"
     ]
    }
   ],
   "execution_count": 49
  },
  {
   "metadata": {
    "ExecuteTime": {
     "end_time": "2024-07-18T01:25:06.334964Z",
     "start_time": "2024-07-18T01:25:06.329432Z"
    }
   },
   "cell_type": "code",
   "source": [
    "number_of_yesterday_lyric = contents.upper().count(\"YESTERDAY\")\n",
    "print(f\"number_of_yesterday_lyric YESTERDAY의 갯수   : \\n {number_of_yesterday_lyric}\")"
   ],
   "id": "3ef74013d1d72c1c",
   "outputs": [
    {
     "name": "stdout",
     "output_type": "stream",
     "text": [
      "number_of_yesterday_lyric YESTERDAY의 갯수   : \n",
      " 9\n"
     ]
    }
   ],
   "execution_count": 50
  },
  {
   "metadata": {
    "ExecuteTime": {
     "end_time": "2024-07-18T01:25:35.182373Z",
     "start_time": "2024-07-18T01:25:35.168451Z"
    }
   },
   "cell_type": "code",
   "source": [
    "# Counter 라는 모듈 도구를 이용해서, 해당 단어별 빈도 집계\n",
    "from collections import Counter\n",
    "print(f\"Counter(yesterday_lyric) 라이브러리 이용해서, 단어별 빈도 갯수 구하기 \\n :\"\n",
    "      f\"{Counter(contents)}\")"
   ],
   "id": "abc2011bed0a249f",
   "outputs": [
    {
     "name": "stdout",
     "output_type": "stream",
     "text": [
      "Counter(yesterday_lyric) 라이브러리 이용해서, 단어별 빈도 갯수 구하기 \n",
      " :Counter({' ': 106, 'e': 65, 'a': 45, 'o': 39, 's': 35, 'y': 31, 't': 30, 'd': 28, 'h': 27, 'n': 27, 'l': 20, '\\n': 20, 'r': 19, 'w': 17, 'i': 14, 'g': 13, 'I': 13, 'm': 10, 'u': 9, \"'\": 7, 'v': 6, 'b': 5, ',': 5, 'c': 5, 'f': 4, 'O': 4, 'p': 4, 'Y': 3, 'N': 3, 'k': 3, '.': 3, 'W': 2, 'S': 1, 'T': 1})\n"
     ]
    }
   ],
   "execution_count": 51
  },
  {
   "metadata": {
    "ExecuteTime": {
     "end_time": "2024-07-18T01:25:59.483300Z",
     "start_time": "2024-07-18T01:25:59.475110Z"
    }
   },
   "cell_type": "code",
   "source": [
    "text = '''\n",
    "\"Yesterday all my troubles seemed so far away\n",
    "Now it looks as though they're here to stay\n",
    "Oh, I believe in yesterday\n",
    "Suddenly I'm not half the man I used to be\n",
    "There's a shadow hanging over me\n",
    "Oh, yesterday came suddenly.\n",
    "Why she had to go I don't know,\n",
    "she wouldn't say.\n",
    "I said something wrong\n",
    "now I long for yesterday.\n",
    "Yesterday love was such an easy game to play\n",
    "Now I need a place to hide away\n",
    "Oh, I believe in yesterday\n",
    "Why she had to go I don't know\n",
    "she wouldn't say\n",
    "I said something wrong\n",
    "now I long for yesterday\n",
    "Yesterday love was such an easy game to play\n",
    "Now I need a place to hide away\n",
    "Oh, I believe in yesterday\"\n",
    "'''.lower().split()\n",
    "# .lower 소문자로 바꾸고 .split 나누기\n",
    "print(f\"text 결과값: {text}\")\n",
    "print(\"\\n\")\n",
    "print(f\"Counter모듈 이용출력: {Counter(text)}\")"
   ],
   "id": "c46358982f80834",
   "outputs": [
    {
     "name": "stdout",
     "output_type": "stream",
     "text": [
      "text 결과값: ['\"yesterday', 'all', 'my', 'troubles', 'seemed', 'so', 'far', 'away', 'now', 'it', 'looks', 'as', 'though', \"they're\", 'here', 'to', 'stay', 'oh,', 'i', 'believe', 'in', 'yesterday', 'suddenly', \"i'm\", 'not', 'half', 'the', 'man', 'i', 'used', 'to', 'be', \"there's\", 'a', 'shadow', 'hanging', 'over', 'me', 'oh,', 'yesterday', 'came', 'suddenly.', 'why', 'she', 'had', 'to', 'go', 'i', \"don't\", 'know,', 'she', \"wouldn't\", 'say.', 'i', 'said', 'something', 'wrong', 'now', 'i', 'long', 'for', 'yesterday.', 'yesterday', 'love', 'was', 'such', 'an', 'easy', 'game', 'to', 'play', 'now', 'i', 'need', 'a', 'place', 'to', 'hide', 'away', 'oh,', 'i', 'believe', 'in', 'yesterday', 'why', 'she', 'had', 'to', 'go', 'i', \"don't\", 'know', 'she', \"wouldn't\", 'say', 'i', 'said', 'something', 'wrong', 'now', 'i', 'long', 'for', 'yesterday', 'yesterday', 'love', 'was', 'such', 'an', 'easy', 'game', 'to', 'play', 'now', 'i', 'need', 'a', 'place', 'to', 'hide', 'away', 'oh,', 'i', 'believe', 'in', 'yesterday\"']\n",
      "\n",
      "\n",
      "Counter모듈 이용출력: Counter({'i': 12, 'to': 8, 'yesterday': 6, 'now': 5, 'oh,': 4, 'she': 4, 'away': 3, 'believe': 3, 'in': 3, 'a': 3, 'why': 2, 'had': 2, 'go': 2, \"don't\": 2, \"wouldn't\": 2, 'said': 2, 'something': 2, 'wrong': 2, 'long': 2, 'for': 2, 'love': 2, 'was': 2, 'such': 2, 'an': 2, 'easy': 2, 'game': 2, 'play': 2, 'need': 2, 'place': 2, 'hide': 2, '\"yesterday': 1, 'all': 1, 'my': 1, 'troubles': 1, 'seemed': 1, 'so': 1, 'far': 1, 'it': 1, 'looks': 1, 'as': 1, 'though': 1, \"they're\": 1, 'here': 1, 'stay': 1, 'suddenly': 1, \"i'm\": 1, 'not': 1, 'half': 1, 'the': 1, 'man': 1, 'used': 1, 'be': 1, \"there's\": 1, 'shadow': 1, 'hanging': 1, 'over': 1, 'me': 1, 'came': 1, 'suddenly.': 1, 'know,': 1, 'say.': 1, 'yesterday.': 1, 'know': 1, 'say': 1, 'yesterday\"': 1})\n"
     ]
    }
   ],
   "execution_count": 52
  },
  {
   "metadata": {},
   "cell_type": "code",
   "outputs": [],
   "execution_count": null,
   "source": "",
   "id": "c73ef9f2f1c73cc3"
  }
 ],
 "metadata": {
  "kernelspec": {
   "display_name": "Python 3",
   "language": "python",
   "name": "python3"
  },
  "language_info": {
   "codemirror_mode": {
    "name": "ipython",
    "version": 2
   },
   "file_extension": ".py",
   "mimetype": "text/x-python",
   "name": "python",
   "nbconvert_exporter": "python",
   "pygments_lexer": "ipython2",
   "version": "2.7.6"
  }
 },
 "nbformat": 4,
 "nbformat_minor": 5
}

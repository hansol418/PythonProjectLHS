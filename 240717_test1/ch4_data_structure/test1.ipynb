{
 "cells": [
  {
   "cell_type": "code",
   "id": "initial_id",
   "metadata": {
    "collapsed": true,
    "ExecuteTime": {
     "end_time": "2024-07-18T02:43:16.912446Z",
     "start_time": "2024-07-18T02:43:16.899038Z"
    }
   },
   "source": [
    "today_lunch_menu = {\"menu1\":\"된장찌개\",\"menu2\":\"도시락\",\"menu3\":\"참깨라면\"}\n",
    "print(today_lunch_menu)"
   ],
   "outputs": [
    {
     "name": "stdout",
     "output_type": "stream",
     "text": [
      "{'menu1': '된장찌개', 'menu2': '도시락', 'menu3': '참깨라면'}\n"
     ]
    }
   ],
   "execution_count": 11
  },
  {
   "metadata": {
    "ExecuteTime": {
     "end_time": "2024-07-18T02:43:16.917760Z",
     "start_time": "2024-07-18T02:43:16.912446Z"
    }
   },
   "cell_type": "code",
   "source": [
    "for k, v in today_lunch_menu.items():\n",
    "    print(f\"k(키) : {k}, v값 : {v}\")"
   ],
   "id": "a96152a52fbea34f",
   "outputs": [
    {
     "name": "stdout",
     "output_type": "stream",
     "text": [
      "k(키) : menu1, v값 : 된장찌개\n",
      "k(키) : menu2, v값 : 도시락\n",
      "k(키) : menu3, v값 : 참깨라면\n"
     ]
    }
   ],
   "execution_count": 12
  },
  {
   "metadata": {
    "ExecuteTime": {
     "end_time": "2024-07-18T02:43:16.923607Z",
     "start_time": "2024-07-18T02:43:16.917760Z"
    }
   },
   "cell_type": "code",
   "source": "'도시락' in today_lunch_menu.values()",
   "id": "60eb4c1f44f84d09",
   "outputs": [
    {
     "data": {
      "text/plain": [
       "True"
      ]
     },
     "execution_count": 13,
     "metadata": {},
     "output_type": "execute_result"
    }
   ],
   "execution_count": 13
  },
  {
   "metadata": {
    "ExecuteTime": {
     "end_time": "2024-07-18T02:43:16.927589Z",
     "start_time": "2024-07-18T02:43:16.923607Z"
    }
   },
   "cell_type": "code",
   "source": [
    "from collections import deque\n",
    "deque_list = deque()\n",
    "for i in range(5):\n",
    "    deque_list.appendleft(i)\n",
    "print(deque_list)"
   ],
   "id": "f383232320e5f4c",
   "outputs": [
    {
     "name": "stdout",
     "output_type": "stream",
     "text": [
      "deque([4, 3, 2, 1, 0])\n"
     ]
    }
   ],
   "execution_count": 14
  },
  {
   "metadata": {
    "ExecuteTime": {
     "end_time": "2024-07-18T02:43:16.931978Z",
     "start_time": "2024-07-18T02:43:16.927589Z"
    }
   },
   "cell_type": "code",
   "source": [
    "deque_list.rotate(1)\n",
    "print(deque_list)"
   ],
   "id": "a285cd0f09854e04",
   "outputs": [
    {
     "name": "stdout",
     "output_type": "stream",
     "text": [
      "deque([0, 4, 3, 2, 1])\n"
     ]
    }
   ],
   "execution_count": 15
  },
  {
   "metadata": {
    "ExecuteTime": {
     "end_time": "2024-07-18T02:43:26.126699Z",
     "start_time": "2024-07-18T02:43:26.114747Z"
    }
   },
   "cell_type": "code",
   "source": [
    "deque_list.rotate(1)\n",
    "print(deque_list)"
   ],
   "id": "fc6a9a55a3c0b18f",
   "outputs": [
    {
     "name": "stdout",
     "output_type": "stream",
     "text": [
      "deque([1, 0, 4, 3, 2])\n"
     ]
    }
   ],
   "execution_count": 16
  },
  {
   "metadata": {
    "ExecuteTime": {
     "end_time": "2024-07-18T02:49:58.400249Z",
     "start_time": "2024-07-18T02:49:58.393709Z"
    }
   },
   "cell_type": "code",
   "source": [
    "# 정렬 해보기. \n",
    "# OrderdDict , 순서있는 딕션너리 이용하기. \n",
    "def sort_by_key(t):\n",
    "  return t[0]\n",
    "\n",
    "from collections import OrderedDict\n",
    "d= OrderedDict()\n",
    "d[\"x\"] = 1\n",
    "d[\"b\"] = 2\n",
    "d[\"d\"] = 4\n",
    "d[\"c\"] = 3\n",
    "d[\"e\"] = 5\n",
    "\n",
    "# key 정렬해보기. \n",
    "for k,v in OrderedDict(sorted(d.items(), key=sort_by_key)).items():\n",
    "  print(f\"key : {k}, value : {v}\")"
   ],
   "id": "c45382fbf0db52aa",
   "outputs": [
    {
     "name": "stdout",
     "output_type": "stream",
     "text": [
      "key : b, value : 2\n",
      "key : c, value : 3\n",
      "key : d, value : 4\n",
      "key : e, value : 5\n",
      "key : x, value : 1\n"
     ]
    }
   ],
   "execution_count": 17
  },
  {
   "metadata": {},
   "cell_type": "code",
   "outputs": [],
   "execution_count": null,
   "source": "",
   "id": "5897783ddbf8d75d"
  }
 ],
 "metadata": {
  "kernelspec": {
   "display_name": "Python 3",
   "language": "python",
   "name": "python3"
  },
  "language_info": {
   "codemirror_mode": {
    "name": "ipython",
    "version": 2
   },
   "file_extension": ".py",
   "mimetype": "text/x-python",
   "name": "python",
   "nbconvert_exporter": "python",
   "pygments_lexer": "ipython2",
   "version": "2.7.6"
  }
 },
 "nbformat": 4,
 "nbformat_minor": 5
}

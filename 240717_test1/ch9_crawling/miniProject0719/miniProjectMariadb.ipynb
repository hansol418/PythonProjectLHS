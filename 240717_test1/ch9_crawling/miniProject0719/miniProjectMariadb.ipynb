{
 "cells": [
  {
   "cell_type": "code",
   "id": "initial_id",
   "metadata": {
    "collapsed": true,
    "ExecuteTime": {
     "end_time": "2024-07-19T07:46:54.796141Z",
     "start_time": "2024-07-19T07:46:54.347614Z"
    }
   },
   "source": [
    "import time\n",
    "import bs4\n",
    "import urllib.request\n",
    "import pymysql\n",
    "import re\n",
    "\n",
    "# 특수 문자 제거 함수\n",
    "def clean_text(inputString):\n",
    "    text_rmv = re.sub(\n",
    "        '[-=+,#/\\?:^.@*\\\"※~ㆍ!』‘|\\(\\)\\[\\]`\\'…》\\”\\“\\’·]', ' ', inputString)\n",
    "    return text_rmv\n",
    "\n",
    "# 데이터베이스에 데이터 삽입 함수\n",
    "def insertData(title, link, publisher, thumbnail):\n",
    "    con = pymysql.connect(host='127.0.0.1', user='root', password='123456', database='pydb', charset='utf8')\n",
    "    cur = con.cursor()\n",
    "    \n",
    "    query = \"INSERT INTO newsTable2 (title, link, publisher, thumbnail) VALUES (%s, %s, %s, %s)\"\n",
    "    values = (title, link, publisher, thumbnail)\n",
    "\n",
    "    try:\n",
    "        cur.execute(query, values)\n",
    "    except Exception as e:\n",
    "        print('예외 발생:', e)\n",
    "    else:\n",
    "        print('데이터 삽입 성공')\n",
    "        \n",
    "    con.commit()\n",
    "    con.close()\n",
    "\n",
    "# 크롤링 및 데이터베이스 저장 함수\n",
    "def crawl_and_store_news():\n",
    "    nateUrl = \"https://news.zum.com/?cm=news_gnb\"\n",
    "    htmlObject = urllib.request.urlopen(nateUrl)\n",
    "    webPage = htmlObject.read()\n",
    "    bsObject = bs4.BeautifulSoup(webPage, 'html.parser')\n",
    "\n",
    "    tag_list = bsObject.findAll('div', {'class': 'ranking_wrap'})\n",
    "    bottom_list = bsObject.find('div', {'class': 'bottom_list'}).findAll('li')\n",
    "\n",
    "    print('###### 실시간 뉴스 속보 #######')\n",
    "\n",
    "    articles = []\n",
    "    # 상위 기사 리스트를 articles 리스트에 저장\n",
    "    for tag in tag_list:\n",
    "        articles.extend(tag.findAll('li'))\n",
    "\n",
    "    # 하위 기사 리스트를 articles 리스트에 저장\n",
    "    articles.extend(bottom_list)\n",
    "\n",
    "    num_articles = len(articles)\n",
    "\n",
    "    if num_articles == 0:\n",
    "        print(\"기사를 찾을 수 없습니다.\")\n",
    "        return\n",
    "\n",
    "    count = 1\n",
    "    for i in range(num_articles):\n",
    "        if count > 200:\n",
    "            break\n",
    "\n",
    "        article = articles[i]\n",
    "        \n",
    "        try:\n",
    "            title = article.find('h2', {'class': 'title'}).text.strip() if article.find('h2', {'class': 'title'}) else article.find('p', {'class': 'title'}).text.strip()\n",
    "        except AttributeError:\n",
    "            title = \"제목 없음\"\n",
    "\n",
    "        try:\n",
    "            link = \"https://news.zum.com\" + article.find('a', {'class': 'item'})['href']\n",
    "        except TypeError:\n",
    "            link = \"링크 없음\"\n",
    "\n",
    "        try:\n",
    "            publisher = article.find('span', {'class': 'media'}).text.strip()\n",
    "        except AttributeError:\n",
    "            publisher = \"언론사 없음\"\n",
    "\n",
    "        thumbnail = article.find('img')['src'] if article.find('img') else \"썸네일 없음\"\n",
    "\n",
    "        print(f'({count}) {title}')\n",
    "        print(f'\\t 링크: {link} 매체: {publisher} 썸네일: {thumbnail}')\n",
    "        \n",
    "        insertData(title, link, publisher, thumbnail)\n",
    "        \n",
    "        count += 1\n",
    "\n",
    "    print(f\"완료! 총 {count-1}개의 기사를 저장했습니다.\")\n",
    "\n",
    "crawl_and_store_news()"
   ],
   "outputs": [
    {
     "name": "stderr",
     "output_type": "stream",
     "text": [
      "<>:10: SyntaxWarning: invalid escape sequence '\\?'\n",
      "<>:10: SyntaxWarning: invalid escape sequence '\\?'\n",
      "C:\\Users\\it\\AppData\\Local\\Temp\\ipykernel_13184\\3133039784.py:10: SyntaxWarning: invalid escape sequence '\\?'\n",
      "  '[-=+,#/\\?:^.@*\\\"※~ㆍ!』‘|\\(\\)\\[\\]`\\'…》\\”\\“\\’·]', ' ', inputString)\n"
     ]
    },
    {
     "name": "stdout",
     "output_type": "stream",
     "text": [
      "###### 실시간 뉴스 속보 #######\n",
      "(1) 눈 부릅 뜬 검찰단장 \"거짓말한 적 없습니다!\" 답변에…\"간이 얼마나 부었길래!\" \"반항하는 겁니까?\" 버럭\n",
      "\t 링크: https://news.zum.com/articles/92083376?cm=news_home_rank_video 매체: SBS 썸네일: https://thumb.zumst.com/270x152/https://static.news.zumst.com/images/43/2024/07/19/1a64306960034d19a02c876ab0c45773.jpg\n",
      "데이터 삽입 성공\n",
      "(2) 민병덕 “이재명 '일극 체제' 동의…검찰 '아가리'에 밀어 넣을 수 없다는 당원들 선택”\n",
      "\t 링크: https://news.zum.com/articles/92083720?cm=news_home_rank_video 매체: JTBC 썸네일: https://thumb.zumst.com/270x152/https://static.news.zumst.com/images/72/2024/07/19/7d58d56ad2f943038d85c420bbb0c010.jpg\n",
      "데이터 삽입 성공\n",
      "(3) \"전공의 안 돌아오면…\" 대책없는 정부 대책에 의료계 '분노'\n",
      "\t 링크: https://news.zum.com/articles/92081293?cm=news_home_rank_video 매체: 뉴스1 썸네일: https://thumb.zumst.com/270x152/https://static.news.zumst.com/images/51/2024/07/19/c4447c9ff8354932b23c405b545c0f3d.jpg\n",
      "데이터 삽입 성공\n",
      "(4) 신다은, 아들 긴머리 지적에 \"엄마취향인데 왜..나 좀 내버려 둬\" 한탄\n",
      "\t 링크: https://news.zum.com/articles/92083968?cm=news_home_rank_video 매체: 헤럴드경제 썸네일: https://thumb.zumst.com/270x152/https://static.news.zumst.com/images/37/2024/07/19/5986eaa860b84006800c1f940631e620.jpg\n",
      "데이터 삽입 성공\n",
      "(5) 바이든·해리스, 對트럼프 지지율 '비슷'…바이든 하차해도 해리스도 '열세'\n",
      "\t 링크: https://news.zum.com/articles/92081189?cm=news_home_rank_article 매체: 뉴시스 썸네일: 썸네일 없음\n",
      "데이터 삽입 성공\n",
      "(6) 합참 \"오늘 오후 4시부터 대북 확성기 방송 지속 시행\"\n",
      "\t 링크: https://news.zum.com/articles/92085228?cm=news_home_rank_article 매체: 연합뉴스 썸네일: 썸네일 없음\n",
      "데이터 삽입 성공\n",
      "(7) '용준형과 결혼' 현아, 전 연인 던 결국 지웠다…굿바이 럽스타그램\n",
      "\t 링크: https://news.zum.com/articles/92085149?cm=news_home_rank_article 매체: 조이뉴스24 썸네일: 썸네일 없음\n",
      "데이터 삽입 성공\n",
      "(8) '강연자들' 오은영, 반전과거..\"레지던트 시절 3년간 정신분석 받았다\"\n",
      "\t 링크: https://news.zum.com/articles/92080906?cm=news_home_rank_article 매체: OSEN 썸네일: 썸네일 없음\n",
      "데이터 삽입 성공\n",
      "(9) 장윤정 “♥도경완, 한 달에 한 번 우울…남자도 생리해요?” 폭로('마법의 성')[TV핫샷]\n",
      "\t 링크: https://news.zum.com/articles/92076428?cm=news_home_rank_article 매체: 스포티비뉴스 썸네일: 썸네일 없음\n",
      "데이터 삽입 성공\n",
      "(10) 손흥민 인종차별 피해, 토트넘-포스테코글루 모두 방관자...징계-비판 대신 \"SON 결정대로!\"\n",
      "\t 링크: https://news.zum.com/articles/92080961?cm=news_home_rank_article 매체: 인터풋볼 썸네일: 썸네일 없음\n",
      "데이터 삽입 성공\n",
      "(11) '尹 탄핵 청원 청문회' 진행...충돌·고성 난무\n",
      "\t 링크: https://news.zum.com/articles/92081756?cm=news_home_rank_article 매체: YTN 썸네일: 썸네일 없음\n",
      "데이터 삽입 성공\n",
      "(12) '장동건♥' 고소영, 딸과 함께 나들이 포착…\"엄마 똑 닮았네\"\n",
      "\t 링크: https://news.zum.com/articles/92071504?cm=news_home_rank_article 매체: 이투데이 썸네일: 썸네일 없음\n",
      "데이터 삽입 성공\n",
      "(13) \"침묵의 대가로 뒷돈\" 쯔양 협박 사건, 압수수색·고발·직권조사 후폭풍 [ST이슈]\n",
      "\t 링크: https://news.zum.com/articles/92084612?cm=news_home_rank_article 매체: 스포츠투데이 썸네일: 썸네일 없음\n",
      "데이터 삽입 성공\n",
      "(14) 정청래, 곽규택 발언권 중지…고성 오간 대통령 탄핵 청원 청문회\n",
      "\t 링크: https://news.zum.com/articles/92084038?cm=news_home_rank_article 매체: 경향신문 썸네일: 썸네일 없음\n",
      "데이터 삽입 성공\n",
      "(15) 바이든·해리스, 對트럼프 지지율 '비슷'…바이든 하차해도 해리스도 '열세'\n",
      "\t 링크: https://news.zum.com/articles/92081189?cm=news_home_rank_article 매체: 뉴시스 썸네일: 썸네일 없음\n",
      "데이터 삽입 성공\n",
      "(16) 합참 \"오늘 오후 4시부터 대북 확성기 방송 지속 시행\"\n",
      "\t 링크: https://news.zum.com/articles/92085228?cm=news_home_rank_article 매체: 연합뉴스 썸네일: 썸네일 없음\n",
      "데이터 삽입 성공\n",
      "(17) '용준형과 결혼' 현아, 전 연인 던 결국 지웠다…굿바이 럽스타그램\n",
      "\t 링크: https://news.zum.com/articles/92085149?cm=news_home_rank_article 매체: 조이뉴스24 썸네일: 썸네일 없음\n",
      "데이터 삽입 성공\n",
      "(18) '강연자들' 오은영, 반전과거..\"레지던트 시절 3년간 정신분석 받았다\"\n",
      "\t 링크: https://news.zum.com/articles/92080906?cm=news_home_rank_article 매체: OSEN 썸네일: 썸네일 없음\n",
      "데이터 삽입 성공\n",
      "(19) 장윤정 “♥도경완, 한 달에 한 번 우울…남자도 생리해요?” 폭로('마법의 성')[TV핫샷]\n",
      "\t 링크: https://news.zum.com/articles/92076428?cm=news_home_rank_article 매체: 스포티비뉴스 썸네일: 썸네일 없음\n",
      "데이터 삽입 성공\n",
      "(20) 손흥민 인종차별 피해, 토트넘-포스테코글루 모두 방관자...징계-비판 대신 \"SON 결정대로!\"\n",
      "\t 링크: https://news.zum.com/articles/92080961?cm=news_home_rank_article 매체: 인터풋볼 썸네일: 썸네일 없음\n",
      "데이터 삽입 성공\n",
      "(21) '尹 탄핵 청원 청문회' 진행...충돌·고성 난무\n",
      "\t 링크: https://news.zum.com/articles/92081756?cm=news_home_rank_article 매체: YTN 썸네일: 썸네일 없음\n",
      "데이터 삽입 성공\n",
      "(22) '장동건♥' 고소영, 딸과 함께 나들이 포착…\"엄마 똑 닮았네\"\n",
      "\t 링크: https://news.zum.com/articles/92071504?cm=news_home_rank_article 매체: 이투데이 썸네일: 썸네일 없음\n",
      "데이터 삽입 성공\n",
      "(23) \"침묵의 대가로 뒷돈\" 쯔양 협박 사건, 압수수색·고발·직권조사 후폭풍 [ST이슈]\n",
      "\t 링크: https://news.zum.com/articles/92084612?cm=news_home_rank_article 매체: 스포츠투데이 썸네일: 썸네일 없음\n",
      "데이터 삽입 성공\n",
      "(24) 정청래, 곽규택 발언권 중지…고성 오간 대통령 탄핵 청원 청문회\n",
      "\t 링크: https://news.zum.com/articles/92084038?cm=news_home_rank_article 매체: 경향신문 썸네일: 썸네일 없음\n",
      "데이터 삽입 성공\n",
      "완료! 총 24개의 기사를 저장했습니다.\n"
     ]
    }
   ],
   "execution_count": 7
  },
  {
   "metadata": {
    "ExecuteTime": {
     "end_time": "2024-07-19T07:44:14.226716Z",
     "start_time": "2024-07-19T07:44:14.224022Z"
    }
   },
   "cell_type": "code",
   "source": "",
   "id": "e4b389bc2c53efd8",
   "outputs": [],
   "execution_count": 3
  },
  {
   "metadata": {
    "ExecuteTime": {
     "end_time": "2024-07-19T07:44:15.223446Z",
     "start_time": "2024-07-19T07:44:15.220769Z"
    }
   },
   "cell_type": "code",
   "source": "",
   "id": "fb8a08fc58b7cad9",
   "outputs": [],
   "execution_count": 3
  },
  {
   "metadata": {
    "ExecuteTime": {
     "end_time": "2024-07-19T07:44:16.094610Z",
     "start_time": "2024-07-19T07:44:16.092340Z"
    }
   },
   "cell_type": "code",
   "source": "",
   "id": "73613ccc96fda30e",
   "outputs": [],
   "execution_count": 3
  },
  {
   "metadata": {
    "ExecuteTime": {
     "end_time": "2024-07-19T07:46:29.612144Z",
     "start_time": "2024-07-19T07:46:29.609917Z"
    }
   },
   "cell_type": "code",
   "source": "",
   "id": "291dd7db348b7268",
   "outputs": [],
   "execution_count": 3
  },
  {
   "metadata": {},
   "cell_type": "code",
   "outputs": [],
   "execution_count": null,
   "source": "",
   "id": "9cec534d29dddbb0"
  }
 ],
 "metadata": {
  "kernelspec": {
   "display_name": "Python 3",
   "language": "python",
   "name": "python3"
  },
  "language_info": {
   "codemirror_mode": {
    "name": "ipython",
    "version": 2
   },
   "file_extension": ".py",
   "mimetype": "text/x-python",
   "name": "python",
   "nbconvert_exporter": "python",
   "pygments_lexer": "ipython2",
   "version": "2.7.6"
  }
 },
 "nbformat": 4,
 "nbformat_minor": 5
}

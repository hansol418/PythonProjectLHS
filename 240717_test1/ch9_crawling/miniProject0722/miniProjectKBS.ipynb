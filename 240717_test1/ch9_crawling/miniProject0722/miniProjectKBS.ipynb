{
 "cells": [
  {
   "cell_type": "code",
   "id": "initial_id",
   "metadata": {
    "collapsed": true,
    "ExecuteTime": {
     "end_time": "2024-07-19T05:33:53.129064Z",
     "start_time": "2024-07-19T05:33:53.121006Z"
    }
   },
   "source": [
    "\t# <div class=\"mduSubjectList\">\t\n",
    "\t# \t<div class=\"mlt01\">\n",
    "\t# \t\t<a href=\"//news.nate.com/view/20240719n16586?mid=n0100\"  class=\"lt1\">\n",
    "\t# \t\t\t<span class=\"ib\">\n",
    "\t# \t\t\t\t<em class=\"mediatype\">\n",
    "\t# \t\t\t\t\t\t\t\t\t\t\t\t<img src=\"//thumbnews.nateimg.co.kr/news90///news.nateimg.co.kr/orgImg/na/2024/07/19/6768831_high.jpg\" width=\"90\" onerror=\"ImgError(this,'//news.nateimg.co.kr/orgImg/na/2024/07/19/6768831_high.jpg','90');\" alt=\"\" />\n",
    "\t# \t\t\t\t\t\t\t\t\t\t\t\t\t\t\t\t</em>\n",
    "\t# \t\t\t</span>\t\t\t\t<span class=\"tb\">\n",
    "\t# \t\t\t\t\t\t\t\t\t<h2 class=\"tit\">尹 탄핵청원 청문회 격돌…고성·몸싸움에 野 의원 부상</h2>\n",
    "\t# \t\t\t\t\t\t\t\t\t\t\t\t\t\t\t\t유상범 국민의힘 간사 등이 19일 오전 서울 여의도 국회 법제사법위원회에서 열린 '윤석열 대통령 탄핵소추안 즉각 발의 요청에 관한 청원 관련 1차 청문회'에서 정청래 위...\n",
    "\t# \t\t\t\t\t\t\t\t\t\t\t\t\t\t</span>\n",
    "\t# \t\t</a>\n",
    "\t# \t\t<span class=\"medium\">뉴스1\t\t\t\t\t\t\t\t\t<em>07-19 13:44</em>\n",
    "\t# \t\t\t\t\t\t</span>\n",
    "\t# \t</div>\n",
    "\t# </div>\t\n",
    "\t# \n",
    "\t# \t\t<div class=\"mduSubjectList\">\t\n",
    "\t# \t<div class=\"mlt01\">\n",
    "\t# \t\t<a href=\"//news.nate.com/view/20240719n08852?mid=n0100\"  class=\"lt1\">\n",
    "\t# \t\t\t<span class=\"ib\">"
   ],
   "outputs": [],
   "execution_count": 1
  },
  {
   "metadata": {
    "ExecuteTime": {
     "end_time": "2024-07-22T03:28:06.833827Z",
     "start_time": "2024-07-22T03:27:36.221240Z"
    }
   },
   "cell_type": "code",
   "source": [
    "from urllib import response\n",
    "import time\n",
    "import bs4\n",
    "import urllib.request\n",
    "\n",
    "# 네이트 실시간 뉴스 정보 -> 콘솔, 조금 코드를 수정해서, mysql 자동으로 저장.\n",
    "\n",
    "nateUrl = \"https://news.kbs.co.kr/news/pc/main/main.html\"\n",
    "\n",
    "while True:\n",
    "    # 웹페이지 내용을 가져옵니다.\n",
    "    htmlObject = urllib.request.urlopen(nateUrl)\n",
    "    webPage = htmlObject.read()\n",
    "    bsObject = bs4.BeautifulSoup(webPage, 'html.parser')\n",
    "\n",
    "    # 클래스가 'box-contents has-border-contents'인 div 태그를 찾습니다.\n",
    "    tag_list = bsObject.find('div', {'class': 'box-contents has-border-contents'})\n",
    "    if tag_list:\n",
    "        news_items = tag_list.find_all('a', {'class': 'box-content has-border'})\n",
    "        \n",
    "        print('###### 실시간 뉴스 속보 #######')\n",
    "        num = 1\n",
    "        for item in news_items:\n",
    "            subject = item.find('p', {'class': 'title one-line'}).text.strip()\n",
    "            link = item['href']\n",
    "            full_link = 'https://news.kbs.co.kr' + link  # 기본 URL에 상대 경로를 추가합니다.\n",
    "\n",
    "            print(f'({num}) {subject}')\n",
    "            print(f'\\t {full_link}')\n",
    "            num += 1\n",
    "    else:\n",
    "        print(\"뉴스 항목을 찾을 수 없습니다.\")\n",
    "\n",
    "    time.sleep(10)"
   ],
   "id": "16dd95aa078523a9",
   "outputs": [
    {
     "name": "stdout",
     "output_type": "stream",
     "text": [
      "###### 실시간 뉴스 속보 #######\n",
      "(1) \n",
      "\t https://news.kbs.co.kr\n",
      "###### 실시간 뉴스 속보 #######\n",
      "(1) \n",
      "\t https://news.kbs.co.kr\n",
      "###### 실시간 뉴스 속보 #######\n",
      "(1) \n",
      "\t https://news.kbs.co.kr\n"
     ]
    },
    {
     "ename": "KeyboardInterrupt",
     "evalue": "",
     "output_type": "error",
     "traceback": [
      "\u001B[1;31m---------------------------------------------------------------------------\u001B[0m",
      "\u001B[1;31mKeyboardInterrupt\u001B[0m                         Traceback (most recent call last)",
      "Cell \u001B[1;32mIn[25], line 34\u001B[0m\n\u001B[0;32m     31\u001B[0m \u001B[38;5;28;01melse\u001B[39;00m:\n\u001B[0;32m     32\u001B[0m     \u001B[38;5;28mprint\u001B[39m(\u001B[38;5;124m\"\u001B[39m\u001B[38;5;124m뉴스 항목을 찾을 수 없습니다.\u001B[39m\u001B[38;5;124m\"\u001B[39m)\n\u001B[1;32m---> 34\u001B[0m \u001B[43mtime\u001B[49m\u001B[38;5;241;43m.\u001B[39;49m\u001B[43msleep\u001B[49m\u001B[43m(\u001B[49m\u001B[38;5;241;43m10\u001B[39;49m\u001B[43m)\u001B[49m\n",
      "\u001B[1;31mKeyboardInterrupt\u001B[0m: "
     ]
    }
   ],
   "execution_count": 25
  },
  {
   "metadata": {},
   "cell_type": "code",
   "source": "",
   "id": "8ec2953eec7be762",
   "outputs": [],
   "execution_count": null
  }
 ],
 "metadata": {
  "kernelspec": {
   "display_name": "Python 3",
   "language": "python",
   "name": "python3"
  },
  "language_info": {
   "codemirror_mode": {
    "name": "ipython",
    "version": 2
   },
   "file_extension": ".py",
   "mimetype": "text/x-python",
   "name": "python",
   "nbconvert_exporter": "python",
   "pygments_lexer": "ipython2",
   "version": "2.7.6"
  }
 },
 "nbformat": 4,
 "nbformat_minor": 5
}

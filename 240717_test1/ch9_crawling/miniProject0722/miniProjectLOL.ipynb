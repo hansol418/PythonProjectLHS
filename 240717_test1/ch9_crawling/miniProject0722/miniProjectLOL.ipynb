{
 "cells": [
  {
   "cell_type": "code",
   "id": "initial_id",
   "metadata": {
    "collapsed": true,
    "ExecuteTime": {
     "end_time": "2024-07-19T05:33:53.129064Z",
     "start_time": "2024-07-19T05:33:53.121006Z"
    }
   },
   "source": [
    "\t# <div class=\"mduSubjectList\">\t\n",
    "\t# \t<div class=\"mlt01\">\n",
    "\t# \t\t<a href=\"//news.nate.com/view/20240719n16586?mid=n0100\"  class=\"lt1\">\n",
    "\t# \t\t\t<span class=\"ib\">\n",
    "\t# \t\t\t\t<em class=\"mediatype\">\n",
    "\t# \t\t\t\t\t\t\t\t\t\t\t\t<img src=\"//thumbnews.nateimg.co.kr/news90///news.nateimg.co.kr/orgImg/na/2024/07/19/6768831_high.jpg\" width=\"90\" onerror=\"ImgError(this,'//news.nateimg.co.kr/orgImg/na/2024/07/19/6768831_high.jpg','90');\" alt=\"\" />\n",
    "\t# \t\t\t\t\t\t\t\t\t\t\t\t\t\t\t\t</em>\n",
    "\t# \t\t\t</span>\t\t\t\t<span class=\"tb\">\n",
    "\t# \t\t\t\t\t\t\t\t\t<h2 class=\"tit\">尹 탄핵청원 청문회 격돌…고성·몸싸움에 野 의원 부상</h2>\n",
    "\t# \t\t\t\t\t\t\t\t\t\t\t\t\t\t\t\t유상범 국민의힘 간사 등이 19일 오전 서울 여의도 국회 법제사법위원회에서 열린 '윤석열 대통령 탄핵소추안 즉각 발의 요청에 관한 청원 관련 1차 청문회'에서 정청래 위...\n",
    "\t# \t\t\t\t\t\t\t\t\t\t\t\t\t\t</span>\n",
    "\t# \t\t</a>\n",
    "\t# \t\t<span class=\"medium\">뉴스1\t\t\t\t\t\t\t\t\t<em>07-19 13:44</em>\n",
    "\t# \t\t\t\t\t\t</span>\n",
    "\t# \t</div>\n",
    "\t# </div>\t\n",
    "\t# \n",
    "\t# \t\t<div class=\"mduSubjectList\">\t\n",
    "\t# \t<div class=\"mlt01\">\n",
    "\t# \t\t<a href=\"//news.nate.com/view/20240719n08852?mid=n0100\"  class=\"lt1\">\n",
    "\t# \t\t\t<span class=\"ib\">"
   ],
   "outputs": [],
   "execution_count": 1
  },
  {
   "metadata": {
    "ExecuteTime": {
     "end_time": "2024-07-22T05:17:10.261350Z",
     "start_time": "2024-07-22T05:17:00.672629Z"
    }
   },
   "cell_type": "code",
   "source": [
    "import time\n",
    "import bs4\n",
    "import urllib.request\n",
    "\n",
    "# 네이트 실시간 뉴스 정보 -> 콘솔, 조금 코드를 수정해서, mysql 자동으로 저장.\n",
    "\n",
    "nateUrl = \"https://www.inven.co.kr/lol/\"\n",
    "htmlObject = urllib.request.urlopen(nateUrl)\n",
    "webPage = htmlObject.read()\n",
    "bsObject = bs4.BeautifulSoup(webPage, 'html.parser')\n",
    "\n",
    "while True:\n",
    "    # div.mlt01 -> 정보가 20개,\n",
    "    # 각 기사의 모델 , 속성 포맷이 같음.\n",
    "    # tag_list<mlt01>\n",
    "    tag_list = bsObject.findAll('div', {'class': 'list-bbs'})\n",
    "    \n",
    "\n",
    "    print('###### 실시간 뉴스 속보 #######')\n",
    "    num = 1\n",
    "    for tag in tag_list:\n",
    "       # 링크 추출\n",
    "        link_tag = tag.find('a', href=True)\n",
    "        link = link_tag['href'] if link_tag else 'No Link'\n",
    "        \n",
    "        # 제목 추출\n",
    "        title_tag = tag.find('div', {'class': 'tit'})\n",
    "        title = title_tag.text.strip() if title_tag else 'No Title'\n",
    "        \n",
    "        # 댓글 수 추출\n",
    "        comm_tag = tag.find('div', {'class': 'comm'})\n",
    "        comments = comm_tag.text.strip() if comm_tag else '[0]'\n",
    "        \n",
    "        # 아이콘 확인 (optional)\n",
    "        icon_tag = tag.find('div', {'class': 'icon'})\n",
    "        icon = icon_tag.text.strip() if icon_tag else ''\n",
    "        \n",
    "        print(f'({num}) {title}')\n",
    "        print(f'\\t https:{link} 댓글수: {comments} {icon}')\n",
    "        num += 1\n",
    "\n",
    "    time.sleep(3)"
   ],
   "id": "16dd95aa078523a9",
   "outputs": [
    {
     "name": "stdout",
     "output_type": "stream",
     "text": [
      "###### 실시간 뉴스 속보 #######\n",
      "(1) 이 정도면 꽤 날씬한 편\n",
      "\t https:https://www.inven.co.kr/board/lol/4625/3900205 댓글수: [8] N\n",
      "H\n",
      "(2) 챌린져 리플보면 사이드 진득하게 안 돌던데\n",
      "\t https:https://www.inven.co.kr/board/lol/3369/2500497 댓글수: [17] H\n",
      "(3) 실버 서폿이 실력과 인성을 겸비한 원딜님 모십니다. :)\n",
      "\t https:https://www.inven.co.kr/board/lol/2783/1452214 댓글수: [0] N\n",
      "###### 실시간 뉴스 속보 #######\n",
      "(1) 이 정도면 꽤 날씬한 편\n",
      "\t https:https://www.inven.co.kr/board/lol/4625/3900205 댓글수: [8] N\n",
      "H\n",
      "(2) 챌린져 리플보면 사이드 진득하게 안 돌던데\n",
      "\t https:https://www.inven.co.kr/board/lol/3369/2500497 댓글수: [17] H\n",
      "(3) 실버 서폿이 실력과 인성을 겸비한 원딜님 모십니다. :)\n",
      "\t https:https://www.inven.co.kr/board/lol/2783/1452214 댓글수: [0] N\n",
      "###### 실시간 뉴스 속보 #######\n",
      "(1) 이 정도면 꽤 날씬한 편\n",
      "\t https:https://www.inven.co.kr/board/lol/4625/3900205 댓글수: [8] N\n",
      "H\n",
      "(2) 챌린져 리플보면 사이드 진득하게 안 돌던데\n",
      "\t https:https://www.inven.co.kr/board/lol/3369/2500497 댓글수: [17] H\n",
      "(3) 실버 서폿이 실력과 인성을 겸비한 원딜님 모십니다. :)\n",
      "\t https:https://www.inven.co.kr/board/lol/2783/1452214 댓글수: [0] N\n"
     ]
    },
    {
     "ename": "KeyboardInterrupt",
     "evalue": "",
     "output_type": "error",
     "traceback": [
      "\u001B[1;31m---------------------------------------------------------------------------\u001B[0m",
      "\u001B[1;31mKeyboardInterrupt\u001B[0m                         Traceback (most recent call last)",
      "Cell \u001B[1;32mIn[3], line 42\u001B[0m\n\u001B[0;32m     39\u001B[0m     \u001B[38;5;28mprint\u001B[39m(\u001B[38;5;124mf\u001B[39m\u001B[38;5;124m'\u001B[39m\u001B[38;5;130;01m\\t\u001B[39;00m\u001B[38;5;124m https:\u001B[39m\u001B[38;5;132;01m{\u001B[39;00mlink\u001B[38;5;132;01m}\u001B[39;00m\u001B[38;5;124m 댓글수: \u001B[39m\u001B[38;5;132;01m{\u001B[39;00mcomments\u001B[38;5;132;01m}\u001B[39;00m\u001B[38;5;124m \u001B[39m\u001B[38;5;132;01m{\u001B[39;00micon\u001B[38;5;132;01m}\u001B[39;00m\u001B[38;5;124m'\u001B[39m)\n\u001B[0;32m     40\u001B[0m     num \u001B[38;5;241m+\u001B[39m\u001B[38;5;241m=\u001B[39m \u001B[38;5;241m1\u001B[39m\n\u001B[1;32m---> 42\u001B[0m \u001B[43mtime\u001B[49m\u001B[38;5;241;43m.\u001B[39;49m\u001B[43msleep\u001B[49m\u001B[43m(\u001B[49m\u001B[38;5;241;43m3\u001B[39;49m\u001B[43m)\u001B[49m\n",
      "\u001B[1;31mKeyboardInterrupt\u001B[0m: "
     ]
    }
   ],
   "execution_count": 3
  },
  {
   "metadata": {
    "ExecuteTime": {
     "end_time": "2024-07-22T05:16:55.239535Z",
     "start_time": "2024-07-22T05:16:55.237490Z"
    }
   },
   "cell_type": "code",
   "source": "",
   "id": "8ec2953eec7be762",
   "outputs": [],
   "execution_count": 2
  },
  {
   "metadata": {},
   "cell_type": "code",
   "outputs": [],
   "execution_count": null,
   "source": "",
   "id": "4e105b888e84a66b"
  }
 ],
 "metadata": {
  "kernelspec": {
   "display_name": "Python 3",
   "language": "python",
   "name": "python3"
  },
  "language_info": {
   "codemirror_mode": {
    "name": "ipython",
    "version": 2
   },
   "file_extension": ".py",
   "mimetype": "text/x-python",
   "name": "python",
   "nbconvert_exporter": "python",
   "pygments_lexer": "ipython2",
   "version": "2.7.6"
  }
 },
 "nbformat": 4,
 "nbformat_minor": 5
}

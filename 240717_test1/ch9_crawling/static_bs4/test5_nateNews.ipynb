{
 "cells": [
  {
   "cell_type": "code",
   "id": "initial_id",
   "metadata": {
    "collapsed": true,
    "ExecuteTime": {
     "end_time": "2024-07-19T05:33:53.129064Z",
     "start_time": "2024-07-19T05:33:53.121006Z"
    }
   },
   "source": [
    "\t# <div class=\"mduSubjectList\">\t\n",
    "\t# \t<div class=\"mlt01\">\n",
    "\t# \t\t<a href=\"//news.nate.com/view/20240719n16586?mid=n0100\"  class=\"lt1\">\n",
    "\t# \t\t\t<span class=\"ib\">\n",
    "\t# \t\t\t\t<em class=\"mediatype\">\n",
    "\t# \t\t\t\t\t\t\t\t\t\t\t\t<img src=\"//thumbnews.nateimg.co.kr/news90///news.nateimg.co.kr/orgImg/na/2024/07/19/6768831_high.jpg\" width=\"90\" onerror=\"ImgError(this,'//news.nateimg.co.kr/orgImg/na/2024/07/19/6768831_high.jpg','90');\" alt=\"\" />\n",
    "\t# \t\t\t\t\t\t\t\t\t\t\t\t\t\t\t\t</em>\n",
    "\t# \t\t\t</span>\t\t\t\t<span class=\"tb\">\n",
    "\t# \t\t\t\t\t\t\t\t\t<h2 class=\"tit\">尹 탄핵청원 청문회 격돌…고성·몸싸움에 野 의원 부상</h2>\n",
    "\t# \t\t\t\t\t\t\t\t\t\t\t\t\t\t\t\t유상범 국민의힘 간사 등이 19일 오전 서울 여의도 국회 법제사법위원회에서 열린 '윤석열 대통령 탄핵소추안 즉각 발의 요청에 관한 청원 관련 1차 청문회'에서 정청래 위...\n",
    "\t# \t\t\t\t\t\t\t\t\t\t\t\t\t\t</span>\n",
    "\t# \t\t</a>\n",
    "\t# \t\t<span class=\"medium\">뉴스1\t\t\t\t\t\t\t\t\t<em>07-19 13:44</em>\n",
    "\t# \t\t\t\t\t\t</span>\n",
    "\t# \t</div>\n",
    "\t# </div>\t\n",
    "\t# \n",
    "\t# \t\t<div class=\"mduSubjectList\">\t\n",
    "\t# \t<div class=\"mlt01\">\n",
    "\t# \t\t<a href=\"//news.nate.com/view/20240719n08852?mid=n0100\"  class=\"lt1\">\n",
    "\t# \t\t\t<span class=\"ib\">"
   ],
   "outputs": [],
   "execution_count": 1
  },
  {
   "metadata": {
    "ExecuteTime": {
     "end_time": "2024-07-19T05:34:53.625088Z",
     "start_time": "2024-07-19T05:33:53.131063Z"
    }
   },
   "cell_type": "code",
   "source": [
    "import time\n",
    "import bs4\n",
    "import urllib.request\n",
    "\n",
    "# 네이트 실시간 뉴스 정보 -> 콘솔, 조금 코드를 수정해서, mysql 자동으로 저장.\n",
    "\n",
    "nateUrl = \"https://news.nate.com/recent?mid=n0100\"\n",
    "htmlObject = urllib.request.urlopen(nateUrl)\n",
    "webPage = htmlObject.read()\n",
    "bsObject = bs4.BeautifulSoup(webPage, 'html.parser')\n",
    "\n",
    "while True:\n",
    "    # div.mlt01 -> 정보가 20개,\n",
    "    # 각 기사의 모델 , 속성 포맷이 같음.\n",
    "    # tag_list<mlt01>\n",
    "    tag_list = bsObject.findAll('div', {'class': 'mlt01'})\n",
    "\n",
    "    print('###### 실시간 뉴스 속보 #######')\n",
    "    num = 1\n",
    "    for tag in tag_list:\n",
    "        # 각 기사에서 , 특정 정보를 추출하는 작업.\n",
    "        subject = tag.find('h2', {'class': 'tit'}).text\n",
    "        link = tag.find('a', {'class': 'lt1'})['href']\n",
    "        pressAndDate = tag.find('span', {'class': 'medium'}).text\n",
    "        pressAndDate.replace('\\t', ' ')\n",
    "        pressAndDate.replace('\\n', '')\n",
    "\n",
    "        if len(pressAndDate.split()) == 3:\n",
    "            press, pDate, pTime = pressAndDate.split()\n",
    "        elif len(pressAndDate.split()) == 4:\n",
    "            press1, press2, pDate, pTime = pressAndDate.split()\n",
    "            press = press1+press2\n",
    "        else:\n",
    "            continue\n",
    "\n",
    "        print('(', num, ')', subject)\n",
    "        print('\\t https:'+link, press, pDate, pTime)\n",
    "        num += 1\n",
    "\n",
    "    time.sleep(60)"
   ],
   "id": "16dd95aa078523a9",
   "outputs": [
    {
     "name": "stdout",
     "output_type": "stream",
     "text": [
      "###### 실시간 뉴스 속보 #######\n",
      "( 1 ) 트럼프, 멕시코 장벽 건설 재개…김정은에겐 \"잘 지낼 것\"\n",
      "\t https://news.nate.com/view/20240719n18910?mid=n0100 한겨레 07-19 14:25\n",
      "( 2 ) 고민정 \"수미 테리, 칼럼으로 윤 치켜세워…모른다고 할 수 있나\"\n",
      "\t https://news.nate.com/view/20240719n12879?mid=n0100 한겨레 07-19 14:25\n",
      "( 3 ) 바이든, 대선 포기 받아들이나…펠로시마저 \"곧 설득될 것\"\n",
      "\t https://news.nate.com/view/20240719n06160?mid=n0100 한겨레 07-19 14:25\n",
      "( 4 ) 두 팔 없는 47살 국가대표 '철인' 김황태…두려움은 다 지나가더라\n",
      "\t https://news.nate.com/view/20240719n02895?mid=n0100 한겨레 07-19 14:25\n",
      "( 5 ) 국민이 뽑은 건 대통령…영부인은 공식 직함 아니다\n",
      "\t https://news.nate.com/view/20240719n02892?mid=n0100 한겨레 07-19 14:25\n",
      "( 6 ) 프랑스 반값, 중국보다 낮은 단가…체코 원전 '밑지는 장사' 될 수도\n",
      "\t https://news.nate.com/view/20240719n02022?mid=n0100 한겨레 07-19 14:25\n",
      "( 7 ) 오늘 '윤 탄핵 청원' 청문회…이종호·신원식·김계환 줄줄이 불출석\n",
      "\t https://news.nate.com/view/20240719n01420?mid=n0100 한겨레 07-19 14:25\n",
      "( 8 ) [화보] 아일리원(ILY:1) 나유 '몽골 대자연을 품은 관능미'\n",
      "\t https://news.nate.com/view/20240719n19686?mid=n0100 bnt뉴스 07-19 14:25\n",
      "( 9 ) [TD포토] 세븐틴 호시 '완벽한 파티룩'\n",
      "\t https://news.nate.com/view/20240719n19685?mid=n0100 티브이데일리 07-19 14:25\n",
      "( 10 ) [화보] 아일리원(ILY:1) 로나 \"몽골의 풍경, 감탄와 힐링의 연속이었다\"\n",
      "\t https://news.nate.com/view/20240719n19684?mid=n0100 bnt뉴스 07-19 14:25\n",
      "( 11 ) 롯데, 선수카드 NFT 발행 롯데이노베이트 코튼시드와 협업\n",
      "\t https://news.nate.com/view/20240719n19683?mid=n0100 아이뉴스24 07-19 14:25\n",
      "( 12 ) [포토]정청래 법사위원장실 항의 방문하는 국민의힘 의원들\n",
      "\t https://news.nate.com/view/20240719n19682?mid=n0100 아이뉴스24 07-19 14:25\n",
      "( 13 ) 올해 소방공무원 1천662명 최종 선발…여성 소폭 증가\n",
      "\t https://news.nate.com/view/20240719n19681?mid=n0100 연합뉴스 07-19 14:25\n",
      "( 14 ) 모나용평, 글로벌 한류 '용평밸리' 창립…배우 이영애 동참\n",
      "\t https://news.nate.com/view/20240719n19680?mid=n0100 연합뉴스 07-19 14:25\n",
      "( 15 ) [포토] 위클리 이재희, '귀여운 매력에 빠져들겠네'\n",
      "\t https://news.nate.com/view/20240719n19679?mid=n0100 한국경제 07-19 14:25\n",
      "( 16 ) 몬스타엑스 아이엠, 빠져드는 비주얼 [포토엔HD]\n",
      "\t https://news.nate.com/view/20240719n19678?mid=n0100 뉴스엔 07-19 14:25\n",
      "( 17 ) [TD포토] 세븐틴 호시 '하트'\n",
      "\t https://news.nate.com/view/20240719n19677?mid=n0100 티브이데일리 07-19 14:25\n",
      "( 18 ) 대한상의 최태원·네이버 최수연, AI 산업 대담…\"엔비디아 향후 3년간 적수 없을 것\"\n",
      "\t https://news.nate.com/view/20240719n19676?mid=n0100 세계일보 07-19 14:25\n",
      "( 19 ) 합참 \"北 오물풍선 비열한 방식…응분의 대가를 치를 것\"\n",
      "\t https://news.nate.com/view/20240719n19675?mid=n0100 머니S 07-19 14:25\n",
      "( 20 ) 김태호PD \"'무한도전' 성공이 압박? 다음 챕터 쓰려 노력\"(질문들)[종합]\n",
      "\t https://news.nate.com/view/20240719n19674?mid=n0100 스포츠조선 07-19 14:25\n"
     ]
    },
    {
     "ename": "KeyboardInterrupt",
     "evalue": "",
     "output_type": "error",
     "traceback": [
      "\u001B[1;31m---------------------------------------------------------------------------\u001B[0m",
      "\u001B[1;31mKeyboardInterrupt\u001B[0m                         Traceback (most recent call last)",
      "Cell \u001B[1;32mIn[2], line 40\u001B[0m\n\u001B[0;32m     37\u001B[0m     \u001B[38;5;28mprint\u001B[39m(\u001B[38;5;124m'\u001B[39m\u001B[38;5;130;01m\\t\u001B[39;00m\u001B[38;5;124m https:\u001B[39m\u001B[38;5;124m'\u001B[39m\u001B[38;5;241m+\u001B[39mlink, press, pDate, pTime)\n\u001B[0;32m     38\u001B[0m     num \u001B[38;5;241m+\u001B[39m\u001B[38;5;241m=\u001B[39m \u001B[38;5;241m1\u001B[39m\n\u001B[1;32m---> 40\u001B[0m \u001B[43mtime\u001B[49m\u001B[38;5;241;43m.\u001B[39;49m\u001B[43msleep\u001B[49m\u001B[43m(\u001B[49m\u001B[38;5;241;43m60\u001B[39;49m\u001B[43m)\u001B[49m\n",
      "\u001B[1;31mKeyboardInterrupt\u001B[0m: "
     ]
    }
   ],
   "execution_count": 2
  },
  {
   "metadata": {},
   "cell_type": "code",
   "source": "",
   "id": "8ec2953eec7be762",
   "outputs": [],
   "execution_count": null
  }
 ],
 "metadata": {
  "kernelspec": {
   "display_name": "Python 3",
   "language": "python",
   "name": "python3"
  },
  "language_info": {
   "codemirror_mode": {
    "name": "ipython",
    "version": 2
   },
   "file_extension": ".py",
   "mimetype": "text/x-python",
   "name": "python",
   "nbconvert_exporter": "python",
   "pygments_lexer": "ipython2",
   "version": "2.7.6"
  }
 },
 "nbformat": 4,
 "nbformat_minor": 5
}

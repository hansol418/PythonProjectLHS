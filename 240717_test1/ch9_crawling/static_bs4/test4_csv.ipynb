{
 "cells": [
  {
   "cell_type": "code",
   "id": "initial_id",
   "metadata": {
    "collapsed": true,
    "ExecuteTime": {
     "end_time": "2024-07-19T02:31:36.281762Z",
     "start_time": "2024-07-19T02:31:26.254866Z"
    }
   },
   "source": [
    "import csv\n",
    "import time\n",
    "import datetime\n",
    "\n",
    "# csv 파일을 저장할 물리 경로 지정.\n",
    "csvName = \"C:/Users/it/PycharmProjects/pythonProject3/240717_test1/ch9_crawling/static_bs4/SampleCsv_datetime_240719.csv\"\n",
    "\n",
    "# with 구문은, 파일 객체를 자동으로 반납하는 기능이 포함. \n",
    "with open(csvName, \"w\", newline=\"\", encoding=\"UTF-8\") as csvfile:\n",
    "    csvwriter = csv.writer(csvfile)\n",
    "    # 행에 정보 넣기\n",
    "    csvwriter.writerow(['연월일','시분초'])\n",
    "\n",
    "# 상태 변수, 전체 반복 횟수를 체크하는 용도. \n",
    "count = 10\n",
    "while count > 0:\n",
    "    count -= 1\n",
    "    \n",
    "    # 날짜 및 시간 정보 가져오기. \n",
    "    now = datetime.datetime.now()\n",
    "    yymmdd = now.strftime(\"%Y-%m-%d\")\n",
    "    hhmmss = now.strftime(\"%H:%M:%S\")\n",
    "    time_list = [yymmdd,hhmmss]\n",
    "    print(time_list)\n",
    "    \n",
    "    #위의 날짜 및 시간의 정보를 csv 파일에 쓰기 작업. \n",
    "    with open(csvName, \"a\", newline=\"\", encoding=\"UTF-8\") as csvfile:\n",
    "        csvwriter = csv.writer(csvfile)\n",
    "        csvwriter.writerow(time_list)\n",
    "    \n",
    "    #1초마다 , 진행하기. 1초씩 쉬기.     \n",
    "    time.sleep(1)\n",
    " "
   ],
   "outputs": [
    {
     "name": "stdout",
     "output_type": "stream",
     "text": [
      "['2024-07-19', '11:31:26']\n",
      "['2024-07-19', '11:31:27']\n",
      "['2024-07-19', '11:31:28']\n",
      "['2024-07-19', '11:31:29']\n",
      "['2024-07-19', '11:31:30']\n",
      "['2024-07-19', '11:31:31']\n",
      "['2024-07-19', '11:31:32']\n",
      "['2024-07-19', '11:31:33']\n",
      "['2024-07-19', '11:31:34']\n",
      "['2024-07-19', '11:31:35']\n"
     ]
    }
   ],
   "execution_count": 1
  },
  {
   "metadata": {
    "ExecuteTime": {
     "end_time": "2024-07-19T03:35:02.492968Z",
     "start_time": "2024-07-19T03:34:52.326278Z"
    }
   },
   "cell_type": "code",
   "source": [
    "#네이트 뉴스 -> 날씨 -> 경상남도 -> 부산에서 날씨정보 가져와서, \n",
    "# csv 파일에 쓰기 작업.\n",
    "# 준비물1\n",
    "# https://news.nate.com/weather?areaCode=11H20201\n",
    "# 어느 경로에 물리파일 생성 할지.\n",
    "# 준비물2\n",
    "# 경로 : \n",
    "# D:/PyTestBusanIt501/pythonProject3/ch9_crawling/static_bs4/news_weather_datetime_240719.csv\n",
    "\n",
    "# 준비물3\n",
    "# 해당 가지고 올 정보들의 태그 정보가 필요함. \n",
    "# 온도, 습도, 강수량, 풍향\n",
    "# <div class=\"right_today\">\n",
    "# \t\t온도!!!!!!!!!!!!\t\t\t\t\t<div class=\"temperature\">\n",
    "# \t\t\t\t\t\t\t\t<p class=\"celsius\">27<span class=\"hide\">℃</span></p><!-- minus일경우 클래스 추가 -->\n",
    "# \t\t\t\t\t\t\t\t<p class=\"min_max\">\n",
    "# \t\t\t\t\t\t\t\t\t<span class=\"maximum\">최고 27℃</span>\n",
    "# \t\t\t\t\t\t\t\t\t<span class=\"minimum\">최저 23℃</span>\n",
    "# \t\t\t\t\t\t\t\t</p>\n",
    "# \t\t\t\t\t\t\t</div>\n",
    "# \t\t\t\t\t\t\t<p class=\"comparison\">\n",
    "# \t\t\t\t\t\t\t<span >\n",
    "# \t\t\t\t\t\t\t\t<em class=\"hide\">어제보다</em></span><!-- 어제와같음클래스:same, 기본:클래스없음 -->\n",
    "# \t\t\t\t\t\t\t\t<em class=\"plus\">+1℃</em><!-- 클래스없음 기본 plus 노란색 --></p>\n",
    "# \t\t\t\t\t\t\t<div class=\"hrw_area\"><!-- lv1: 0~34%, lv2:35~70%, lv3:80~100% -->\n",
    "# \t\t\t습도!!!!!!!!!!!!\t\t\t\t\t<p class=\"humidity\"><span><span class=\"hide\">습도</span></span><em>78%</em></p>\n",
    "# \t\t강수량!!!!!!!!!!!!\t\t\t\t\t\t<p class=\"rainfall\"><span><span class=\"hide\">강수량</span></span><em>4.0mm</em></p>\t\n",
    "# \t\t풍향!!!!!!!!!! <p class=\"wind\"><span><span class=\"hide\">풍향</span></span><em> 남서 4.5 m/s</em></p>\n",
    "\n",
    "import csv\n",
    "import time\n",
    "import datetime\n",
    "import bs4\n",
    "import urllib.request\n",
    "\n",
    "# csv 파일을 저장할 물리 경로 지정.\n",
    "csvName = \"C:/Users/it/PycharmProjects/pythonProject3/240717_test1/ch9_crawling/static_bs4/news_weather_datetime_240719_2.csv\"\n",
    "\n",
    "# with 구문은, 파일 객체를 자동으로 반납하는 기능이 포함. \n",
    "with open(csvName, \"w\", newline=\"\", encoding=\"UTF-8\") as csvfile:\n",
    "    csvwriter = csv.writer(csvfile)\n",
    "    # 행에 정보 넣기\n",
    "    csvwriter.writerow(['연월일','시분초','온도','습도','강수량','풍향'])\n",
    "\n",
    "#날씨 정보 가져오기. \n",
    "new_weather_nate_url = 'https://news.nate.com/weather?areaCode=11H20201'\n",
    "web_page = urllib.request.urlopen(new_weather_nate_url)\n",
    "bsObject = bs4.BeautifulSoup(web_page,\"html.parser\")\n",
    "\n",
    "count = 10\n",
    "\n",
    "while count > 0:\n",
    "    count -= 1\n",
    "    # <div class=\"right_today\"> 하위에 관련 정보 태그들 다 있음. \n",
    "    tag_right_today = bsObject.find('div',{'class' : 'right_today'})\n",
    "    # <p class=\"celsius\">27\n",
    "    celsius = tag_right_today.find('p',{'class' : 'celsius'}).text\n",
    "    # <p class=\"humidity\"><span><span class=\"hide\">습도</span></span><em>78%</em></p>\n",
    "    humidity_tag = tag_right_today.find('p',{'class' : 'humidity'})\n",
    "    humidity_tag_em = humidity_tag.find('em').text\n",
    "    # <p class=\"rainfall\"><span><span class=\"hide\">강수량</span></span><em>4.0mm</em></p> \n",
    "    rainfall_tag = tag_right_today.find('p',{'class' : 'rainfall'})\n",
    "    rainfall_tag_em = rainfall_tag.find('em').text\n",
    "    \n",
    "    #<p class=\"wind\"><span><span class=\"hide\">풍향</span></span><em> 남서 4.5 m/s</em></p></div>\n",
    "    wind_tag = tag_right_today.find('p',{'class' : 'wind'})\n",
    "    wind_tag_em = wind_tag.find('em').text\n",
    "    wind_tag_em_strip = wind_tag_em.strip()\n",
    "    # print(celsius)\n",
    "    # print(humidity_tag_em)\n",
    "    # print(rainfall_tag_em)\n",
    "    # print(wind_tag_em_strip)\n",
    "    # 날짜 및 시간 정보 가져오기. \n",
    "    now = datetime.datetime.now()\n",
    "    yymmdd = now.strftime(\"%Y-%m-%d\")\n",
    "    hhmmss = now.strftime(\"%H:%M:%S\")\n",
    "    \n",
    "    #csv 쓰기. \n",
    "    #위의 날짜 및 시간의 정보를 csv 파일에 쓰기 작업. \n",
    "    # 원하는 데이터 형식 -> 리스트 변환 \n",
    "    weather_list = [yymmdd,hhmmss, celsius, humidity_tag_em, rainfall_tag_em,wind_tag_em_strip]\n",
    "    with open(csvName, \"a\", newline=\"\", encoding=\"UTF-8\") as csvfile:\n",
    "        csvwriter = csv.writer(csvfile)\n",
    "        csvwriter.writerow(weather_list)\n",
    "    \n",
    "    #1초마다 , 진행하기. 10초씩 쉬기.     \n",
    "    time.sleep(1)\n",
    "print(\"save Ok\")"
   ],
   "id": "23d4c3a2797675b3",
   "outputs": [
    {
     "name": "stdout",
     "output_type": "stream",
     "text": [
      "save Ok\n"
     ]
    }
   ],
   "execution_count": 7
  },
  {
   "metadata": {},
   "cell_type": "code",
   "outputs": [],
   "execution_count": null,
   "source": "",
   "id": "270efb89e41b8617"
  }
 ],
 "metadata": {
  "kernelspec": {
   "display_name": "Python 3",
   "language": "python",
   "name": "python3"
  },
  "language_info": {
   "codemirror_mode": {
    "name": "ipython",
    "version": 2
   },
   "file_extension": ".py",
   "mimetype": "text/x-python",
   "name": "python",
   "nbconvert_exporter": "python",
   "pygments_lexer": "ipython2",
   "version": "2.7.6"
  }
 },
 "nbformat": 4,
 "nbformat_minor": 5
}

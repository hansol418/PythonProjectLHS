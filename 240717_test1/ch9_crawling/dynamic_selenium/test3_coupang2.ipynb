{
 "cells": [
  {
   "cell_type": "code",
   "id": "initial_id",
   "metadata": {
    "collapsed": true,
    "ExecuteTime": {
     "end_time": "2024-07-22T06:40:01.794860Z",
     "start_time": "2024-07-22T06:40:01.698997Z"
    }
   },
   "source": [
    "from selenium import webdriver\n",
    "from selenium.webdriver.common.keys import Keys\n",
    "from selenium.webdriver.common.by import By\n",
    "import time\n",
    "import urllib.request\n",
    "import os\n",
    "from selenium.webdriver.chrome.options import Options"
   ],
   "outputs": [],
   "execution_count": 4
  },
  {
   "metadata": {
    "ExecuteTime": {
     "end_time": "2024-07-22T06:41:23.787572Z",
     "start_time": "2024-07-22T06:40:01.795861Z"
    }
   },
   "cell_type": "code",
   "source": [
    "chrome_options = Options()\n",
    "chrome_options.add_argument('--disable-blink-features=AutomationControlled')\n",
    "\n",
    "# Initialize the WebDriver with options\n",
    "driver = webdriver.Chrome(options=chrome_options)\n",
    "search_words = [\"차량용 방향제\"]\n",
    "\n",
    "# Iterate over search terms\n",
    "for search_word in search_words:\n",
    "    # Create a folder for the search term if it doesn't exist\n",
    "    if not os.path.isdir(search_word):\n",
    "        os.mkdir(search_word)\n",
    "\n",
    "    # Iterate through pages\n",
    "    for page in range(1, 6):  # Example: process first 5 pages\n",
    "        # Construct the URL with the current search term and page number\n",
    "      \n",
    "        #해당 url 키워드 검색으로 들어가면 차단, 그래서, 미리 검색어 적어두고 접근 하면, 1페이지 상품 사진 다운로드 가능. \n",
    "        # 2페이지 접근시 다시 차단. \n",
    "        \n",
    "        url = f\"https://www.coupang.com/np/search?component=&q={search_word}&channel=user&page={page}\"\n",
    "        driver.implicitly_wait(3)\n",
    "        driver.get(url)\n",
    "        time.sleep(3)  # Wait for the page to load\n",
    "\n",
    "        # Find image elements\n",
    "        images = driver.find_elements(By.CSS_SELECTOR, \"dt.image\")\n",
    "        print(f\"Found {len(images)} images on page {page} for search term '{search_word}'\")\n",
    "\n",
    "        # Download images\n",
    "        count = 1\n",
    "        for image in images:\n",
    "            if count > 5:  # Limit to 5 images per page for this example\n",
    "                break\n",
    "            try:\n",
    "                img_url = image.find_element(By.CSS_SELECTOR, \"img.search-product-wrap-img\").get_attribute(\"src\")\n",
    "                print(f\"Image URL: {img_url}\")\n",
    "\n",
    "                # Download the image\n",
    "                urllib.request.urlretrieve(\n",
    "                    img_url,\n",
    "                    os.path.join(search_word, f\"{search_word}.{page}.{count}.jpg\")\n",
    "                )\n",
    "                print(f\"Downloaded {search_word}.{page}.{count}.jpg\")\n",
    "                count += 1\n",
    "            except Exception as e:\n",
    "                print(f\"Error downloading image: {e}\")\n",
    "            time.sleep(2)\n",
    "# Close the WebDriver\n",
    "driver.quit()\n"
   ],
   "id": "a1812d9de885921e",
   "outputs": [
    {
     "name": "stdout",
     "output_type": "stream",
     "text": [
      "Found 59 images on page 1 for search term '차량용 방향제'\n",
      "Image URL: https://thumbnail9.coupangcdn.com/thumbnails/remote/230x230ex/image/vendor_inventory/2b7f/787e620524f45c415906ce41955c1c8cb8f27ee9cb7c37163fb7bee21dfe.png\n",
      "Downloaded 차량용 방향제.1.1.jpg\n",
      "Image URL: https://thumbnail6.coupangcdn.com/thumbnails/remote/230x230ex/image/retail/images/220764316973513-20796f6c-2c26-427f-acb9-9c00bc23e55a.jpg\n",
      "Downloaded 차량용 방향제.1.2.jpg\n",
      "Image URL: https://thumbnail8.coupangcdn.com/thumbnails/remote/230x230ex/image/rs_quotation_api/3objc8ck/a19169fc51324c32a5be543b5bbad041.jpg\n",
      "Downloaded 차량용 방향제.1.3.jpg\n",
      "Image URL: https://thumbnail6.coupangcdn.com/thumbnails/remote/230x230ex/image/retail/images/2097022700156146-7cb899a8-b78d-4f61-ac59-3cc42ec99ff6.jpg\n",
      "Downloaded 차량용 방향제.1.4.jpg\n",
      "Image URL: https://thumbnail6.coupangcdn.com/thumbnails/remote/230x230ex/image/retail/images/2024/03/28/17/6/815058b0-9da6-4f6c-a384-9e5acf7d22bb.jpg\n",
      "Downloaded 차량용 방향제.1.5.jpg\n",
      "Found 36 images on page 2 for search term '차량용 방향제'\n",
      "Image URL: https://thumbnail8.coupangcdn.com/thumbnails/remote/230x230ex/image/vendor_inventory/ee3d/3029b159e508e3224a1cb38f9d78cec89745266c5f3821b2e9f3b1daa31e.JPG\n",
      "Downloaded 차량용 방향제.2.1.jpg\n",
      "Image URL: https://thumbnail10.coupangcdn.com/thumbnails/remote/230x230ex/image/retail/images/562d8b5e-b63f-4ac7-96fc-a0efa1c496a44851519803321631802.png\n",
      "Downloaded 차량용 방향제.2.2.jpg\n",
      "Image URL: https://thumbnail7.coupangcdn.com/thumbnails/remote/230x230ex/image/vendor_inventory/c934/dfe880907e3b5c49a8390b8e98243053a542ed66b6ed2181036e800f3ded.jpg\n",
      "Downloaded 차량용 방향제.2.3.jpg\n",
      "Image URL: https://thumbnail7.coupangcdn.com/thumbnails/remote/230x230ex/image/retail/images/4417271664318889-3118b16b-4001-4316-9204-12bca1e3d94d.jpg\n",
      "Downloaded 차량용 방향제.2.4.jpg\n",
      "Image URL: https://thumbnail8.coupangcdn.com/thumbnails/remote/230x230ex/image/retail/images/37685327476379-5d12c27e-6ca2-4b76-859c-d8989fb15ee0.jpg\n",
      "Downloaded 차량용 방향제.2.5.jpg\n",
      "Found 36 images on page 3 for search term '차량용 방향제'\n",
      "Image URL: https://thumbnail9.coupangcdn.com/thumbnails/remote/230x230ex/image/vendor_inventory/2b7f/787e620524f45c415906ce41955c1c8cb8f27ee9cb7c37163fb7bee21dfe.png\n",
      "Downloaded 차량용 방향제.3.1.jpg\n",
      "Image URL: https://thumbnail10.coupangcdn.com/thumbnails/remote/230x230ex/image/retail/images/2023/10/30/11/8/74ab489e-f555-4143-873f-591f612795a2.jpg\n",
      "Downloaded 차량용 방향제.3.2.jpg\n",
      "Image URL: https://thumbnail8.coupangcdn.com/thumbnails/remote/230x230ex/image/vendor_inventory/ee3d/3029b159e508e3224a1cb38f9d78cec89745266c5f3821b2e9f3b1daa31e.JPG\n",
      "Downloaded 차량용 방향제.3.3.jpg\n",
      "Image URL: https://thumbnail7.coupangcdn.com/thumbnails/remote/230x230ex/image/retail/images/13336499459770841-7e2f0259-b3b3-4a4b-b0e1-32a3b482d963.jpg\n",
      "Downloaded 차량용 방향제.3.4.jpg\n",
      "Image URL: https://thumbnail10.coupangcdn.com/thumbnails/remote/230x230ex/image/vendor_inventory/a984/333ebaba0169cc4da19aa0f4d0486c57fae5fec6579b5fe57267d174cc15.png\n",
      "Downloaded 차량용 방향제.3.5.jpg\n",
      "Found 36 images on page 4 for search term '차량용 방향제'\n",
      "Image URL: https://thumbnail8.coupangcdn.com/thumbnails/remote/230x230ex/image/vendor_inventory/ee3d/3029b159e508e3224a1cb38f9d78cec89745266c5f3821b2e9f3b1daa31e.JPG\n",
      "Downloaded 차량용 방향제.4.1.jpg\n",
      "Image URL: https://thumbnail10.coupangcdn.com/thumbnails/remote/230x230ex/image/vendor_inventory/8385/5c7ce3a589f5d3e43485d152ac8123e7b7dcd7afc1fd2a343544edfb793e.png\n",
      "Downloaded 차량용 방향제.4.2.jpg\n",
      "Image URL: https://thumbnail7.coupangcdn.com/thumbnails/remote/230x230ex/image/vendor_inventory/c934/dfe880907e3b5c49a8390b8e98243053a542ed66b6ed2181036e800f3ded.jpg\n",
      "Downloaded 차량용 방향제.4.3.jpg\n",
      "Image URL: https://thumbnail6.coupangcdn.com/thumbnails/remote/230x230ex/image/retail/images/911306e2-0a74-440f-a16c-8d5bb6d2fbce3930133009153691116.png\n",
      "Downloaded 차량용 방향제.4.4.jpg\n",
      "Image URL: https://thumbnail9.coupangcdn.com/thumbnails/remote/230x230ex/image/vendor_inventory/2b7f/787e620524f45c415906ce41955c1c8cb8f27ee9cb7c37163fb7bee21dfe.png\n",
      "Downloaded 차량용 방향제.4.5.jpg\n",
      "Found 36 images on page 5 for search term '차량용 방향제'\n",
      "Image URL: https://thumbnail9.coupangcdn.com/thumbnails/remote/230x230ex/image/vendor_inventory/2b7f/787e620524f45c415906ce41955c1c8cb8f27ee9cb7c37163fb7bee21dfe.png\n",
      "Downloaded 차량용 방향제.5.1.jpg\n",
      "Image URL: https://thumbnail10.coupangcdn.com/thumbnails/remote/230x230ex/image/vendor_inventory/0f2b/c4e3ff476a9d4703f7eab213b6663a74a440c435ac534364d91eb5153ec6.png\n",
      "Downloaded 차량용 방향제.5.2.jpg\n",
      "Image URL: https://thumbnail7.coupangcdn.com/thumbnails/remote/230x230ex/image/vendor_inventory/c934/dfe880907e3b5c49a8390b8e98243053a542ed66b6ed2181036e800f3ded.jpg\n",
      "Downloaded 차량용 방향제.5.3.jpg\n",
      "Image URL: https://thumbnail9.coupangcdn.com/thumbnails/remote/230x230ex/image/retail/images/2022/12/30/16/0/b6664fd3-a33b-4b0b-a79a-8ca02472f8ff.jpg\n",
      "Downloaded 차량용 방향제.5.4.jpg\n",
      "Image URL: https://thumbnail8.coupangcdn.com/thumbnails/remote/230x230ex/image/retail/images/37685327476379-5d12c27e-6ca2-4b76-859c-d8989fb15ee0.jpg\n",
      "Downloaded 차량용 방향제.5.5.jpg\n"
     ]
    }
   ],
   "execution_count": 5
  },
  {
   "metadata": {
    "ExecuteTime": {
     "end_time": "2024-07-22T06:41:23.797228Z",
     "start_time": "2024-07-22T06:41:23.791570Z"
    }
   },
   "cell_type": "code",
   "source": "",
   "id": "f5dd04dd1342c36e",
   "outputs": [],
   "execution_count": 5
  }
 ],
 "metadata": {
  "kernelspec": {
   "display_name": "Python 3",
   "language": "python",
   "name": "python3"
  },
  "language_info": {
   "codemirror_mode": {
    "name": "ipython",
    "version": 2
   },
   "file_extension": ".py",
   "mimetype": "text/x-python",
   "name": "python",
   "nbconvert_exporter": "python",
   "pygments_lexer": "ipython2",
   "version": "2.7.6"
  }
 },
 "nbformat": 4,
 "nbformat_minor": 5
}

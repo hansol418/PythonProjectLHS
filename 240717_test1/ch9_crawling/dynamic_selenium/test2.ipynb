{
 "cells": [
  {
   "cell_type": "code",
   "id": "initial_id",
   "metadata": {
    "collapsed": true,
    "ExecuteTime": {
     "end_time": "2024-07-22T00:49:56.315691Z",
     "start_time": "2024-07-22T00:49:56.104393Z"
    }
   },
   "source": [
    "\n",
    "from re import I\n",
    "from selenium import webdriver\n",
    "from selenium.webdriver.common.keys import Keys\n",
    "from selenium.webdriver.common.by import By\n",
    "import time\n",
    "import urllib.request\n",
    "import os\n",
    "\n",
    "search_words = [\"강동원\" ]\n",
    "driver = webdriver.Chrome()  #chromedriver.exe -> 가져 옴\n",
    "driver.get(\"https://www.google.co.kr/imghp?hl=ko&tab=wi&authuser=0&ogbl\")\n",
    "# assert \"Python\" in driver.title\n",
    "current_path = os.getcwd() # 저장 경로\n",
    "for search_word in search_words:\n",
    "    elem = driver.find_element(By.NAME,\"q\")  # 검색탕의 검색엔진을 찾는 코드\n",
    "    elem.clear()\n",
    "    elem.send_keys(search_word)  # 해당 검색엔진에 글자를 입력\n",
    "    elem.send_keys(Keys.RETURN)\n",
    "    SCROLL_PAUSE_TIME = 1\n",
    "\n",
    "    # Get scroll height\n",
    "    last_height = driver.execute_script(\n",
    "        \"return document.body.scrollHeight\")  #브라우져 높이를 확인 가능(자바스크립트)\n",
    "\n",
    "    while True:\n",
    "        # Scroll down to bottom\n",
    "        driver.execute_script(\"window.scrollTo(0, document.body.scrollHeight);\"\n",
    "                              )  # 브라우져 끝까지 스크롤을 내리겠다.\n",
    "\n",
    "        # Wait to load page\n",
    "        time.sleep(SCROLL_PAUSE_TIME)  # 페이지 로딩 될 동안 웨잇\n",
    "\n",
    "        # Calculate new scroll height and compare with last scroll height\n",
    "        new_height = driver.execute_script(\"return document.body.scrollHeight\")\n",
    "        if new_height == last_height:  # 스크롤이 끝까지 내려가서 더이상 내릴 것이 없을 때\n",
    "            try:\n",
    "                driver.find_elements(By.CSS_SELECTOR,\".mye4qd\").click()\n",
    "            except:\n",
    "                break\n",
    "        last_height = new_height\n",
    "        \n",
    "\n",
    "\n",
    "    images = driver.find_elements(By.CSS_SELECTOR,\".H8Rx8c\")\n",
    "\n",
    "    folder_name = search_word\n",
    "    #해당 이미지 이름과 동일한 폴더 생성\n",
    "    if not os.path.isdir(folder_name):  # 없으면 새로 생성하는 조건문\n",
    "        os.mkdir(folder_name)\n",
    "\n",
    "    count = 1\n",
    "    for image in images:\n",
    "        if count > 100:\n",
    "            break\n",
    "        try:\n",
    "            image.click()\n",
    "            time.sleep(3)\n",
    "           \n",
    "            imgUrl =  driver.find_element(By.XPATH,'//*[@id=\"Sva75c\"]/div[2]/div[2]/div/div[2]/c-wiz/div/div[3]/div[1]/a/img[1]').get_attribute(\"src\")\n",
    "            urllib.request.urlretrieve(\n",
    "                imgUrl,\n",
    "                folder_name + \"/\" + search_word + \".\" + str(count) + \".jpg\")\n",
    "            count = count + 1\n",
    "        except:\n",
    "            pass\n",
    "    driver.back()\n",
    "\n",
    "driver.close()\n"
   ],
   "outputs": [
    {
     "ename": "ModuleNotFoundError",
     "evalue": "No module named 'selenium'",
     "output_type": "error",
     "traceback": [
      "\u001B[1;31m---------------------------------------------------------------------------\u001B[0m",
      "\u001B[1;31mModuleNotFoundError\u001B[0m                       Traceback (most recent call last)",
      "Cell \u001B[1;32mIn[1], line 2\u001B[0m\n\u001B[0;32m      1\u001B[0m \u001B[38;5;28;01mfrom\u001B[39;00m \u001B[38;5;21;01mre\u001B[39;00m \u001B[38;5;28;01mimport\u001B[39;00m I\n\u001B[1;32m----> 2\u001B[0m \u001B[38;5;28;01mfrom\u001B[39;00m \u001B[38;5;21;01mselenium\u001B[39;00m \u001B[38;5;28;01mimport\u001B[39;00m webdriver\n\u001B[0;32m      3\u001B[0m \u001B[38;5;28;01mfrom\u001B[39;00m \u001B[38;5;21;01mselenium\u001B[39;00m\u001B[38;5;21;01m.\u001B[39;00m\u001B[38;5;21;01mwebdriver\u001B[39;00m\u001B[38;5;21;01m.\u001B[39;00m\u001B[38;5;21;01mcommon\u001B[39;00m\u001B[38;5;21;01m.\u001B[39;00m\u001B[38;5;21;01mkeys\u001B[39;00m \u001B[38;5;28;01mimport\u001B[39;00m Keys\n\u001B[0;32m      4\u001B[0m \u001B[38;5;28;01mfrom\u001B[39;00m \u001B[38;5;21;01mselenium\u001B[39;00m\u001B[38;5;21;01m.\u001B[39;00m\u001B[38;5;21;01mwebdriver\u001B[39;00m\u001B[38;5;21;01m.\u001B[39;00m\u001B[38;5;21;01mcommon\u001B[39;00m\u001B[38;5;21;01m.\u001B[39;00m\u001B[38;5;21;01mby\u001B[39;00m \u001B[38;5;28;01mimport\u001B[39;00m By\n",
      "\u001B[1;31mModuleNotFoundError\u001B[0m: No module named 'selenium'"
     ]
    }
   ],
   "execution_count": 1
  },
  {
   "metadata": {},
   "cell_type": "code",
   "outputs": [],
   "execution_count": null,
   "source": "",
   "id": "fa68b994808588cb"
  }
 ],
 "metadata": {
  "kernelspec": {
   "display_name": "Python 3",
   "language": "python",
   "name": "python3"
  },
  "language_info": {
   "codemirror_mode": {
    "name": "ipython",
    "version": 2
   },
   "file_extension": ".py",
   "mimetype": "text/x-python",
   "name": "python",
   "nbconvert_exporter": "python",
   "pygments_lexer": "ipython2",
   "version": "2.7.6"
  }
 },
 "nbformat": 4,
 "nbformat_minor": 5
}
